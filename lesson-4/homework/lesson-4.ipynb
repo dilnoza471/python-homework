{
 "cells": [
  {
   "metadata": {},
   "cell_type": "markdown",
   "source": "#### 1. Return uncommon elements of lists. Order of elements does not matter.",
   "id": "4e08d19271a3f6f5"
  },
  {
   "metadata": {
    "ExecuteTime": {
     "end_time": "2025-03-03T18:18:28.922317Z",
     "start_time": "2025-03-03T18:18:28.888353Z"
    }
   },
   "cell_type": "code",
   "source": [
    "def uncommon_elements(list1, list2):\n",
    "    common = set(list1) & set(list2)  # Find common elements\n",
    "    return [x for x in list1 if x not in common] + [x for x in list2 if x not in common] #return uncommon elements\n",
    "\n",
    "l1 = [1, 1, 2]\n",
    "l2 = [2, 3, 4]\n",
    "print(uncommon_elements(l1, l2))  # Output: [1, 1, 3, 4]\n"
   ],
   "id": "876c656649783c14",
   "outputs": [
    {
     "name": "stdout",
     "output_type": "stream",
     "text": [
      "[1, 1, 3, 4]\n"
     ]
    }
   ],
   "execution_count": 6
  },
  {
   "metadata": {},
   "cell_type": "markdown",
   "source": "#### 2. Print the square of each number which is less than n on a separate line.",
   "id": "c830b9c797bbdd8"
  },
  {
   "metadata": {
    "ExecuteTime": {
     "end_time": "2025-03-03T18:21:48.823491Z",
     "start_time": "2025-03-03T18:21:48.807231Z"
    }
   },
   "cell_type": "code",
   "source": [
    "def squares(n):\n",
    "    for i in range(1, n):\n",
    "        print(i * i)\n",
    "squares(5)"
   ],
   "id": "bdff8a4fdad54b72",
   "outputs": [
    {
     "name": "stdout",
     "output_type": "stream",
     "text": [
      "1\n",
      "4\n",
      "9\n",
      "16\n"
     ]
    }
   ],
   "execution_count": 7
  },
  {
   "metadata": {},
   "cell_type": "markdown",
   "source": "#### 3. txt nomli string saqlovchi o'zgaruvchi berilgan. txtdagi har uchinchi belgidan keyin pastgi chiziqcha (underscore) qo'yilsin. Agar belgi unli harf yoki orqasidan ostki chiziqcha qo'yilgan harf bo'lsa, ostki chiziqcha keyingi harfdan keyin qo'yilsin. Agar belgi satrdagi oxirgi belgi bo'lsa chiziqcha qo'yilmasin.",
   "id": "6135c8faeed41df7"
  },
  {
   "metadata": {
    "ExecuteTime": {
     "end_time": "2025-03-03T18:34:41.513090Z",
     "start_time": "2025-03-03T18:34:41.447991Z"
    }
   },
   "cell_type": "code",
   "source": [
    "vowels = {'a', 'e', 'i', 'o', 'u'}  # Use a set for O(1) lookup\n",
    "\n",
    "def underscore(txt):\n",
    "    chosen = set()\n",
    "    txt = list(txt)  # Convert string to a list for efficient modification\n",
    "    index = 2\n",
    "\n",
    "    while index < len(txt):\n",
    "        if txt[index] not in vowels and txt[index] not in chosen:\n",
    "            chosen.add(txt[index])\n",
    "            txt.insert(index + 1, '_')  # Insert underscore\n",
    "            index += 4  # Move 3 index ahead plus underscore\n",
    "        else:\n",
    "            index += 1\n",
    "\n",
    "    return ''.join(txt)  # Convert list back to string\n",
    "\n",
    "# Example usage:\n",
    "print(underscore(\"hello\"))\n",
    "print(underscore(\"assalom\"))\n",
    "print(underscore(\"abcabcdabcdeabcdefabcdefg\"))\n"
   ],
   "id": "c5c383289adbc24d",
   "outputs": [
    {
     "name": "stdout",
     "output_type": "stream",
     "text": [
      "hel_lo\n",
      "ass_alom\n",
      "abc_abcd_abcdeab_cdef_abcdefg\n"
     ]
    }
   ],
   "execution_count": 15
  },
  {
   "metadata": {},
   "cell_type": "markdown",
   "source": "#### 4. Number Guessing Game Create a simple number guessing game.",
   "id": "bb429ae37a08f173"
  },
  {
   "metadata": {
    "ExecuteTime": {
     "end_time": "2025-03-03T18:49:40.681134Z",
     "start_time": "2025-03-03T18:48:54.466487Z"
    }
   },
   "cell_type": "code",
   "source": [
    "import random\n",
    "def guessing_game():\n",
    "    again = True\n",
    "    while again:\n",
    "        chosen = random.randint(1, 100) #the number to guess\n",
    "        attempt = 0\n",
    "        found = False\n",
    "        while attempt < 10: #user has 10 attempts\n",
    "            try:\n",
    "                user_input = int(input(\"Guess a number between 1 and 100: \"))\n",
    "                if user_input == chosen:\n",
    "                    print(\"Correct!\")\n",
    "                    found = True\n",
    "                    break\n",
    "                elif user_input > chosen:\n",
    "                    print(\"You guessed too high. Try again.\")\n",
    "                else:\n",
    "                    print(\"You guessed too low. Try again.\")\n",
    "            except ValueError:\n",
    "                print(\"Sorry, I didn't understand that. Try again.\")\n",
    "            finally:\n",
    "                attempt += 1\n",
    "        if not found:\n",
    "            print(\"You used up all your 10 attempts.\")\n",
    "        if input(\"Want to play again? y/n: \").lower() != \"y\":\n",
    "            again = False\n",
    "guessing_game()"
   ],
   "id": "2d9dd51f8dbd523f",
   "outputs": [
    {
     "name": "stdout",
     "output_type": "stream",
     "text": [
      "You guessed too high. Try again.\n",
      "You guessed too low. Try again.\n",
      "You guessed too low. Try again.\n",
      "You guessed too low. Try again.\n",
      "You guessed too high. Try again.\n",
      "You guessed too high. Try again.\n"
     ]
    },
    {
     "ename": "KeyboardInterrupt",
     "evalue": "Interrupted by user",
     "output_type": "error",
     "traceback": [
      "\u001B[31m---------------------------------------------------------------------------\u001B[39m",
      "\u001B[31mKeyboardInterrupt\u001B[39m                         Traceback (most recent call last)",
      "\u001B[36mCell\u001B[39m\u001B[36m \u001B[39m\u001B[32mIn[18]\u001B[39m\u001B[32m, line 27\u001B[39m\n\u001B[32m     25\u001B[39m         \u001B[38;5;28;01mif\u001B[39;00m \u001B[38;5;28minput\u001B[39m(\u001B[33m\"\u001B[39m\u001B[33mWant to play again? y/n: \u001B[39m\u001B[33m\"\u001B[39m).lower() != \u001B[33m\"\u001B[39m\u001B[33my\u001B[39m\u001B[33m\"\u001B[39m:\n\u001B[32m     26\u001B[39m             again = \u001B[38;5;28;01mFalse\u001B[39;00m\n\u001B[32m---> \u001B[39m\u001B[32m27\u001B[39m \u001B[43mguessing_game\u001B[49m\u001B[43m(\u001B[49m\u001B[43m)\u001B[49m\n",
      "\u001B[36mCell\u001B[39m\u001B[36m \u001B[39m\u001B[32mIn[18]\u001B[39m\u001B[32m, line 10\u001B[39m, in \u001B[36mguessing_game\u001B[39m\u001B[34m()\u001B[39m\n\u001B[32m      8\u001B[39m \u001B[38;5;28;01mwhile\u001B[39;00m attempt < \u001B[32m10\u001B[39m: \u001B[38;5;66;03m#user has 10 attempts\u001B[39;00m\n\u001B[32m      9\u001B[39m     \u001B[38;5;28;01mtry\u001B[39;00m:\n\u001B[32m---> \u001B[39m\u001B[32m10\u001B[39m         user_input = \u001B[38;5;28mint\u001B[39m(\u001B[38;5;28;43minput\u001B[39;49m\u001B[43m(\u001B[49m\u001B[33;43m\"\u001B[39;49m\u001B[33;43mGuess a number between 1 and 100: \u001B[39;49m\u001B[33;43m\"\u001B[39;49m\u001B[43m)\u001B[49m)\n\u001B[32m     11\u001B[39m         \u001B[38;5;28;01mif\u001B[39;00m user_input == chosen:\n\u001B[32m     12\u001B[39m             \u001B[38;5;28mprint\u001B[39m(\u001B[33m\"\u001B[39m\u001B[33mCorrect!\u001B[39m\u001B[33m\"\u001B[39m)\n",
      "\u001B[36mFile \u001B[39m\u001B[32m~\\AppData\\Local\\Programs\\Python\\Python313\\Lib\\site-packages\\ipykernel\\kernelbase.py:1282\u001B[39m, in \u001B[36mKernel.raw_input\u001B[39m\u001B[34m(self, prompt)\u001B[39m\n\u001B[32m   1280\u001B[39m     msg = \u001B[33m\"\u001B[39m\u001B[33mraw_input was called, but this frontend does not support input requests.\u001B[39m\u001B[33m\"\u001B[39m\n\u001B[32m   1281\u001B[39m     \u001B[38;5;28;01mraise\u001B[39;00m StdinNotImplementedError(msg)\n\u001B[32m-> \u001B[39m\u001B[32m1282\u001B[39m \u001B[38;5;28;01mreturn\u001B[39;00m \u001B[38;5;28;43mself\u001B[39;49m\u001B[43m.\u001B[49m\u001B[43m_input_request\u001B[49m\u001B[43m(\u001B[49m\n\u001B[32m   1283\u001B[39m \u001B[43m    \u001B[49m\u001B[38;5;28;43mstr\u001B[39;49m\u001B[43m(\u001B[49m\u001B[43mprompt\u001B[49m\u001B[43m)\u001B[49m\u001B[43m,\u001B[49m\n\u001B[32m   1284\u001B[39m \u001B[43m    \u001B[49m\u001B[38;5;28;43mself\u001B[39;49m\u001B[43m.\u001B[49m\u001B[43m_parent_ident\u001B[49m\u001B[43m[\u001B[49m\u001B[33;43m\"\u001B[39;49m\u001B[33;43mshell\u001B[39;49m\u001B[33;43m\"\u001B[39;49m\u001B[43m]\u001B[49m\u001B[43m,\u001B[49m\n\u001B[32m   1285\u001B[39m \u001B[43m    \u001B[49m\u001B[38;5;28;43mself\u001B[39;49m\u001B[43m.\u001B[49m\u001B[43mget_parent\u001B[49m\u001B[43m(\u001B[49m\u001B[33;43m\"\u001B[39;49m\u001B[33;43mshell\u001B[39;49m\u001B[33;43m\"\u001B[39;49m\u001B[43m)\u001B[49m\u001B[43m,\u001B[49m\n\u001B[32m   1286\u001B[39m \u001B[43m    \u001B[49m\u001B[43mpassword\u001B[49m\u001B[43m=\u001B[49m\u001B[38;5;28;43;01mFalse\u001B[39;49;00m\u001B[43m,\u001B[49m\n\u001B[32m   1287\u001B[39m \u001B[43m\u001B[49m\u001B[43m)\u001B[49m\n",
      "\u001B[36mFile \u001B[39m\u001B[32m~\\AppData\\Local\\Programs\\Python\\Python313\\Lib\\site-packages\\ipykernel\\kernelbase.py:1325\u001B[39m, in \u001B[36mKernel._input_request\u001B[39m\u001B[34m(self, prompt, ident, parent, password)\u001B[39m\n\u001B[32m   1322\u001B[39m \u001B[38;5;28;01mexcept\u001B[39;00m \u001B[38;5;167;01mKeyboardInterrupt\u001B[39;00m:\n\u001B[32m   1323\u001B[39m     \u001B[38;5;66;03m# re-raise KeyboardInterrupt, to truncate traceback\u001B[39;00m\n\u001B[32m   1324\u001B[39m     msg = \u001B[33m\"\u001B[39m\u001B[33mInterrupted by user\u001B[39m\u001B[33m\"\u001B[39m\n\u001B[32m-> \u001B[39m\u001B[32m1325\u001B[39m     \u001B[38;5;28;01mraise\u001B[39;00m \u001B[38;5;167;01mKeyboardInterrupt\u001B[39;00m(msg) \u001B[38;5;28;01mfrom\u001B[39;00m\u001B[38;5;250m \u001B[39m\u001B[38;5;28;01mNone\u001B[39;00m\n\u001B[32m   1326\u001B[39m \u001B[38;5;28;01mexcept\u001B[39;00m \u001B[38;5;167;01mException\u001B[39;00m:\n\u001B[32m   1327\u001B[39m     \u001B[38;5;28mself\u001B[39m.log.warning(\u001B[33m\"\u001B[39m\u001B[33mInvalid Message:\u001B[39m\u001B[33m\"\u001B[39m, exc_info=\u001B[38;5;28;01mTrue\u001B[39;00m)\n",
      "\u001B[31mKeyboardInterrupt\u001B[39m: Interrupted by user"
     ]
    }
   ],
   "execution_count": 18
  },
  {
   "metadata": {},
   "cell_type": "markdown",
   "source": "#### 5. Password Checker Task: Create a simple password checker.",
   "id": "8a588040f9d4ea4c"
  },
  {
   "metadata": {
    "ExecuteTime": {
     "end_time": "2025-03-03T19:03:11.565136Z",
     "start_time": "2025-03-03T19:03:02.731319Z"
    }
   },
   "cell_type": "code",
   "source": [
    "def check_password(password):\n",
    "    if len(password) < 8:\n",
    "        print(\"Password is too short.\")\n",
    "\n",
    "    upper = False\n",
    "    for x in password:\n",
    "        if 65 <= ord(x) <=90:\n",
    "            upper = True\n",
    "            break\n",
    "    if upper:\n",
    "        print(\"Password is strong.\")\n",
    "    else:\n",
    "        print(\"Password must contain an uppercase letter.\")\n",
    "check_password(input(\"Enter a password: \"))"
   ],
   "id": "1aecbf1e6303ba0e",
   "outputs": [
    {
     "name": "stdout",
     "output_type": "stream",
     "text": [
      "Password is strong.\n"
     ]
    }
   ],
   "execution_count": 21
  },
  {
   "metadata": {},
   "cell_type": "markdown",
   "source": "#### 6. Prime Numbers Task: Write a Python program that prints all prime numbers between 1 and 100.",
   "id": "2d852242ae729685"
  },
  {
   "metadata": {
    "ExecuteTime": {
     "end_time": "2025-03-04T07:42:28.942973Z",
     "start_time": "2025-03-04T07:42:28.915930Z"
    }
   },
   "cell_type": "code",
   "source": [
    "def prime_numbers(n): #basic trial division approach\n",
    "    if n < 2:\n",
    "        return []\n",
    "    elif n == 2:\n",
    "        return [2]\n",
    "    else:\n",
    "        nums = [2]\n",
    "        for i in range(3, n, 2):\n",
    "            prime = True\n",
    "            for j in nums:\n",
    "                if i % j == 0:\n",
    "                    prime = False\n",
    "                    break\n",
    "            if prime:\n",
    "                nums.append(i)\n",
    "        return nums\n",
    "def sieve_of_eratosthenes(n): #O(nlog log n)\n",
    "    if n < 2:\n",
    "        return []\n",
    "    primes = [True]*(n+1) #mark all as prime\n",
    "    primes[0] = primes[1] = False #0 and 1 not prime\n",
    "    for i in range(2, int(n**0.5)+1):# check upto sqrt(n)\n",
    "        if primes[i]: #if prime, mark its multiples as non-prime\n",
    "            for j in range(i*i, n+1, i):\n",
    "                primes[j] = False\n",
    "    return [i for i in range(2, n) if primes[i]]\n",
    "print(prime_numbers(100))\n",
    "print(sieve_of_eratosthenes(100))"
   ],
   "id": "7289d56a04cb0ba1",
   "outputs": [
    {
     "name": "stdout",
     "output_type": "stream",
     "text": [
      "[2, 3, 5, 7, 11, 13, 17, 19, 23, 29, 31, 37, 41, 43, 47, 53, 59, 61, 67, 71, 73, 79, 83, 89, 97]\n"
     ]
    }
   ],
   "execution_count": 26
  },
  {
   "metadata": {},
   "cell_type": "markdown",
   "source": [
    "#### Bonus Challenge\n",
    "Task: Create a simple text-based Rock, Paper, Scissors game where the player plays against the computer."
   ],
   "id": "e39716c10276ba64"
  },
  {
   "metadata": {
    "ExecuteTime": {
     "end_time": "2025-03-04T07:59:17.639841Z",
     "start_time": "2025-03-04T07:59:01.898321Z"
    }
   },
   "cell_type": "code",
   "source": [
    "def rock_paper_scissors():\n",
    "    again = True\n",
    "    while again :\n",
    "        comp_choice = random.choice([1, 2,3])\n",
    "        try:\n",
    "            user_choice = int(input(\"rock - 1, paper - 2, or scissors - 3: \"))\n",
    "            if 1 > user_choice or user_choice>3:\n",
    "                print(\"Invalid option.\")\n",
    "                continue\n",
    "        except ValueError:\n",
    "            print(\"Sorry, I didn't understand that. Try again.\")\n",
    "            continue\n",
    "        if comp_choice == 1:\n",
    "            if user_choice == 1:\n",
    "                print(\"You chose rock. The computer chose rock. It's a tie.\")\n",
    "            elif user_choice == 2:\n",
    "                print(\"You chose paper. The Computer chose rock. You win!!!\")\n",
    "            else:\n",
    "                print(\"You chose scissors. The computer chose rock. You lose!!!\")\n",
    "        elif comp_choice == 2:\n",
    "            if user_choice == 1:\n",
    "                print(\"You chose rock. The computer chose paper. You lose!!! \")\n",
    "            elif user_choice == 2:\n",
    "                print(\"You chose paper. The Computer chose paper. It's a tie. \")\n",
    "            else:\n",
    "                print(\"You chose scissors. The computer chose paper. You win!!! \")\n",
    "        else :\n",
    "            if user_choice == 1:\n",
    "                print(\"You chose rock. The computer chose scissors. You win!!! \")\n",
    "            elif user_choice == 2:\n",
    "                print(\"You chose paper. The Computer chose scissors. You lose!!!  \")\n",
    "            else:\n",
    "                print(\"You chose scissors. The computer chose scissors.  It's a tie. \")\n",
    "        if input(\"Want to play again? y/n: \").lower() != \"y\":\n",
    "            again = False\n",
    "    print(\"\\nThank you for playing!\")\n",
    "rock_paper_scissors()\n",
    "\n",
    "\n",
    "\n"
   ],
   "id": "294ba3ee2c6e35c0",
   "outputs": [
    {
     "name": "stdout",
     "output_type": "stream",
     "text": [
      "You chose scissors. The computer chose paper. You win!!! \n",
      "\n",
      "Thank you for playing!\n"
     ]
    }
   ],
   "execution_count": 27
  }
 ],
 "metadata": {
  "kernelspec": {
   "display_name": "Python 3",
   "language": "python",
   "name": "python3"
  },
  "language_info": {
   "codemirror_mode": {
    "name": "ipython",
    "version": 2
   },
   "file_extension": ".py",
   "mimetype": "text/x-python",
   "name": "python",
   "nbconvert_exporter": "python",
   "pygments_lexer": "ipython2",
   "version": "2.7.6"
  }
 },
 "nbformat": 4,
 "nbformat_minor": 5
}
