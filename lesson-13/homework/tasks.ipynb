{
 "cells": [
  {
   "metadata": {},
   "cell_type": "markdown",
   "source": [
    "Create a vector with values ranging from 10 to 49.\n",
    "\n"
   ],
   "id": "fc13d924563b7834"
  },
  {
   "metadata": {
    "ExecuteTime": {
     "end_time": "2025-03-29T12:33:06.716895Z",
     "start_time": "2025-03-29T12:33:06.354088Z"
    }
   },
   "cell_type": "code",
   "source": [
    "import numpy as np\n",
    "\n",
    "array1 = np.arange(10, 49, 1)\n",
    "array1"
   ],
   "id": "ee3b29ddbdd257b9",
   "outputs": [
    {
     "data": {
      "text/plain": [
       "array([10, 11, 12, 13, 14, 15, 16, 17, 18, 19, 20, 21, 22, 23, 24, 25, 26,\n",
       "       27, 28, 29, 30, 31, 32, 33, 34, 35, 36, 37, 38, 39, 40, 41, 42, 43,\n",
       "       44, 45, 46, 47, 48])"
      ]
     },
     "execution_count": 1,
     "metadata": {},
     "output_type": "execute_result"
    }
   ],
   "execution_count": 1
  },
  {
   "metadata": {},
   "cell_type": "markdown",
   "source": "Create a 3x3 matrix with values ranging from 0 to 8.\n",
   "id": "960c81897b488e16"
  },
  {
   "metadata": {
    "ExecuteTime": {
     "end_time": "2025-03-29T12:37:21.413570Z",
     "start_time": "2025-03-29T12:37:21.398258Z"
    }
   },
   "cell_type": "code",
   "source": [
    "arr2 = np.arange(0, 9, 1, dtype=int)\n",
    "matrix1 = arr2.reshape((3,3))\n",
    "print(matrix1)\n"
   ],
   "id": "5d6b1ff3c43a0c5c",
   "outputs": [
    {
     "name": "stdout",
     "output_type": "stream",
     "text": [
      "[[0 1 2]\n",
      " [3 4 5]\n",
      " [6 7 8]]\n"
     ]
    },
    {
     "data": {
      "text/plain": [
       "np.int64(7)"
      ]
     },
     "execution_count": 7,
     "metadata": {},
     "output_type": "execute_result"
    }
   ],
   "execution_count": 7
  },
  {
   "metadata": {},
   "cell_type": "markdown",
   "source": "Create a 3x3 identity matrix.\n",
   "id": "803b83f9b4e83d9d"
  },
  {
   "metadata": {
    "ExecuteTime": {
     "end_time": "2025-03-29T12:41:18.493366Z",
     "start_time": "2025-03-29T12:41:18.477219Z"
    }
   },
   "cell_type": "code",
   "source": [
    "i_matrix = np.identity(3, dtype=int)\n",
    "print(i_matrix)"
   ],
   "id": "b90be653fc68ecc4",
   "outputs": [
    {
     "name": "stdout",
     "output_type": "stream",
     "text": [
      "[[1 0 0]\n",
      " [0 1 0]\n",
      " [0 0 1]]\n"
     ]
    }
   ],
   "execution_count": 9
  },
  {
   "metadata": {},
   "cell_type": "markdown",
   "source": "Create a 3x3x3 array with random values.\n",
   "id": "e8c8c4b6a97a713"
  },
  {
   "metadata": {
    "ExecuteTime": {
     "end_time": "2025-03-29T12:42:22.955043Z",
     "start_time": "2025-03-29T12:42:22.905977Z"
    }
   },
   "cell_type": "code",
   "source": [
    "arr3 = np.empty((3,3,3))\n",
    "print(arr3)"
   ],
   "id": "1125ad4344cd2fff",
   "outputs": [
    {
     "name": "stdout",
     "output_type": "stream",
     "text": [
      "[[[1.07684688e-311 1.07684269e-311 1.69121096e-306]\n",
      "  [9.34609111e-307 1.42413555e-306 1.78019082e-306]\n",
      "  [1.37959740e-306 6.23057349e-307 1.02360935e-306]]\n",
      "\n",
      " [[1.69120416e-306 1.78022342e-306 6.23058028e-307]\n",
      "  [1.06811422e-306 9.45699680e-308 1.11258854e-306]\n",
      "  [1.11261502e-306 1.42410839e-306 7.56597770e-307]]\n",
      "\n",
      " [[6.23059726e-307 1.42419530e-306 8.45592576e-307]\n",
      "  [6.23054972e-307 1.42421160e-306 1.24610723e-306]\n",
      "  [9.34609111e-307 2.22522596e-306 3.91786943e-317]]]\n"
     ]
    }
   ],
   "execution_count": 11
  },
  {
   "metadata": {},
   "cell_type": "markdown",
   "source": "Create a 10x10 array with random values and find the minimum and maximum values.\n",
   "id": "2aae8353134cfff4"
  },
  {
   "metadata": {
    "ExecuteTime": {
     "end_time": "2025-03-29T13:09:11.205944Z",
     "start_time": "2025-03-29T13:09:11.171307Z"
    }
   },
   "cell_type": "code",
   "source": [
    "arr4 = np.random.random((10,10))\n",
    "max_num = arr4.max()\n",
    "min_num = arr4.min()\n",
    "print(max_num, min_num)"
   ],
   "id": "7f44a2247180c1c6",
   "outputs": [
    {
     "name": "stdout",
     "output_type": "stream",
     "text": [
      "0.9840627903723058 0.0009573119490965398\n"
     ]
    }
   ],
   "execution_count": 25
  },
  {
   "metadata": {},
   "cell_type": "markdown",
   "source": "Create a random vector of size 30 and find the mean value.\n",
   "id": "8be71806ba862e0b"
  },
  {
   "metadata": {
    "ExecuteTime": {
     "end_time": "2025-03-29T13:08:32.651621Z",
     "start_time": "2025-03-29T13:08:32.605246Z"
    }
   },
   "cell_type": "code",
   "source": [
    "arr5 = np.random.random(10)\n",
    "print(arr5)\n",
    "print(arr5.sum()/10)"
   ],
   "id": "da3cdb7a209ac765",
   "outputs": [
    {
     "name": "stdout",
     "output_type": "stream",
     "text": [
      "[0.17980523 0.81815234 0.75647013 0.27900547 0.20565915 0.24061064\n",
      " 0.13891071 0.84388352 0.84000789 0.64620034]\n",
      "0.4948705419628599\n"
     ]
    }
   ],
   "execution_count": 23
  },
  {
   "metadata": {},
   "cell_type": "markdown",
   "source": "Normalize a 5x5 random matrix.\n",
   "id": "827e87ebabb299ee"
  },
  {
   "metadata": {
    "ExecuteTime": {
     "end_time": "2025-03-29T13:24:23.733756Z",
     "start_time": "2025-03-29T13:24:23.706007Z"
    }
   },
   "cell_type": "code",
   "source": [
    "matrix2 = np.random.randint(100, size=(5,5))\n",
    "print(matrix2)\n",
    "max_n = matrix2.max()\n",
    "min_n = matrix2.min()\n",
    "matrix2 = (matrix2-min_n)/(max_n-min_n)\n",
    "print(matrix2)"
   ],
   "id": "ec29fa9f0006121b",
   "outputs": [
    {
     "name": "stdout",
     "output_type": "stream",
     "text": [
      "[[32 24 71 35 89]\n",
      " [ 2  0 31 58 54]\n",
      " [53 11 25 37 67]\n",
      " [90 48 13 91 94]\n",
      " [10 47  3 48 18]]\n",
      "[[0.34042553 0.25531915 0.75531915 0.37234043 0.94680851]\n",
      " [0.0212766  0.         0.32978723 0.61702128 0.57446809]\n",
      " [0.56382979 0.11702128 0.26595745 0.39361702 0.71276596]\n",
      " [0.95744681 0.5106383  0.13829787 0.96808511 1.        ]\n",
      " [0.10638298 0.5        0.03191489 0.5106383  0.19148936]]\n"
     ]
    }
   ],
   "execution_count": 29
  },
  {
   "metadata": {},
   "cell_type": "markdown",
   "source": "Multiply a 5x3 matrix by a 3x2 matrix (real matrix product).",
   "id": "8e9182bad0f95d51"
  },
  {
   "metadata": {
    "ExecuteTime": {
     "end_time": "2025-03-30T18:43:18.950157Z",
     "start_time": "2025-03-30T18:43:18.889654Z"
    }
   },
   "cell_type": "code",
   "source": [
    "m1 = np.random.randint(10, size=(5,3))\n",
    "m2 = np.random.randint(10, size=(3,2))\n",
    "print(\"m1 \")\n",
    "print(m1)\n",
    "print(\"m2 \")\n",
    "print(m2)\n",
    "product = np.matmul(m1, m2)\n",
    "print(\"product\")\n",
    "print(product)"
   ],
   "id": "7c78be6db7a59036",
   "outputs": [
    {
     "name": "stdout",
     "output_type": "stream",
     "text": [
      "m1 \n",
      "[[8 9 4]\n",
      " [4 5 5]\n",
      " [9 3 2]\n",
      " [3 5 2]\n",
      " [6 9 7]]\n",
      "m2 \n",
      "[[1 9]\n",
      " [9 2]\n",
      " [5 9]]\n",
      "product\n",
      "[[109 126]\n",
      " [ 74  91]\n",
      " [ 46 105]\n",
      " [ 58  55]\n",
      " [122 135]]\n"
     ]
    }
   ],
   "execution_count": 40
  },
  {
   "metadata": {},
   "cell_type": "markdown",
   "source": [
    "\n",
    "Create two 3x3 matrices and compute their dot product.\n"
   ],
   "id": "3528f795d9922ee2"
  },
  {
   "metadata": {
    "ExecuteTime": {
     "end_time": "2025-03-30T18:42:24.873891Z",
     "start_time": "2025-03-30T18:42:24.818274Z"
    }
   },
   "cell_type": "code",
   "source": [
    "p = np.random.randint(10, size=(3,3))\n",
    "q = np.random.randint(10, size=(3,3))\n",
    "print(p)\n",
    "print(q, \"\\n\")\n",
    "print(np.dot(p, q))\n"
   ],
   "id": "d6cc1a3b9ab6fdd3",
   "outputs": [
    {
     "name": "stdout",
     "output_type": "stream",
     "text": [
      "[[1 2 4]\n",
      " [0 9 7]\n",
      " [7 3 4]]\n",
      "[[5 2 6]\n",
      " [7 4 1]\n",
      " [5 7 5]] \n",
      "\n",
      "[[39 38 28]\n",
      " [98 85 44]\n",
      " [76 54 65]]\n"
     ]
    }
   ],
   "execution_count": 39
  },
  {
   "metadata": {},
   "cell_type": "markdown",
   "source": "Given a 4x4 matrix, find its transpose.\n",
   "id": "d6401930d6d2a1da"
  },
  {
   "metadata": {
    "ExecuteTime": {
     "end_time": "2025-03-30T18:44:41.145372Z",
     "start_time": "2025-03-30T18:44:41.100725Z"
    }
   },
   "cell_type": "code",
   "source": [
    "mat4 = np.random.randint(10, size=(4,4))\n",
    "print(mat4)\n",
    "print(\"Transpose:\")\n",
    "print(np.transpose(mat4))"
   ],
   "id": "7613eb6c56ed1ad6",
   "outputs": [
    {
     "name": "stdout",
     "output_type": "stream",
     "text": [
      "[[8 2 7 8]\n",
      " [6 5 5 1]\n",
      " [5 1 0 2]\n",
      " [1 8 9 4]]\n",
      "Transpose:\n",
      "[[8 6 5 1]\n",
      " [2 5 1 8]\n",
      " [7 5 0 9]\n",
      " [8 1 2 4]]\n"
     ]
    }
   ],
   "execution_count": 41
  },
  {
   "metadata": {},
   "cell_type": "markdown",
   "source": "Create a 3x3 matrix and calculate its determinant.\n",
   "id": "ac2e2d404b54bbfe"
  },
  {
   "metadata": {
    "ExecuteTime": {
     "end_time": "2025-03-30T18:47:16.136712Z",
     "start_time": "2025-03-30T18:47:15.971414Z"
    }
   },
   "cell_type": "code",
   "source": [
    "print(p)\n",
    "print(\"Determinant is \", np.linalg.det(mat4))"
   ],
   "id": "fe9099a6d6d8abf0",
   "outputs": [
    {
     "name": "stdout",
     "output_type": "stream",
     "text": [
      "[[1 2 4]\n",
      " [0 9 7]\n",
      " [7 3 4]]\n",
      "Determinant is  -914.9999999999997\n"
     ]
    }
   ],
   "execution_count": 42
  },
  {
   "metadata": {},
   "cell_type": "markdown",
   "source": "Create two matrices ( A ) (3x4) and ( B ) (4x3), and compute the matrix product ( A \\cdot B ).\n",
   "id": "c2d26ce0810a8f5e"
  },
  {
   "metadata": {
    "ExecuteTime": {
     "end_time": "2025-03-30T18:49:30.667860Z",
     "start_time": "2025-03-30T18:49:30.627198Z"
    }
   },
   "cell_type": "code",
   "source": [
    "a = np.random.randint(10, size=(3,4))\n",
    "b = np.random.randint(10, size=(4,3))\n",
    "print(a)\n",
    "print(b)\n",
    "print(\"Product\")\n",
    "print(np.matmul(a,b))"
   ],
   "id": "f535b00e4e4cb33d",
   "outputs": [
    {
     "name": "stdout",
     "output_type": "stream",
     "text": [
      "[[1 9 7 8]\n",
      " [3 6 9 5]\n",
      " [0 6 7 7]]\n",
      "[[4 2 5]\n",
      " [8 8 6]\n",
      " [3 4 7]\n",
      " [0 3 8]]\n",
      "Product\n",
      "[[ 97 126 172]\n",
      " [ 87 105 154]\n",
      " [ 69  97 141]]\n"
     ]
    }
   ],
   "execution_count": 44
  },
  {
   "metadata": {},
   "cell_type": "markdown",
   "source": "Create a 3x3 random matrix and a 3-element column vector. Compute the matrix-vector product.\n",
   "id": "2f56cb0004f5439e"
  },
  {
   "metadata": {
    "ExecuteTime": {
     "end_time": "2025-03-30T18:52:22.707393Z",
     "start_time": "2025-03-30T18:52:22.633554Z"
    }
   },
   "cell_type": "code",
   "source": [
    "print(q)\n",
    "vec = np.array([1,2,3]).reshape(3,1)\n",
    "print(vec)\n",
    "print(q*vec)"
   ],
   "id": "eee58eb710fa46e1",
   "outputs": [
    {
     "name": "stdout",
     "output_type": "stream",
     "text": [
      "[[5 2 6]\n",
      " [7 4 1]\n",
      " [5 7 5]]\n",
      "[[1]\n",
      " [2]\n",
      " [3]]\n",
      "[[ 5  2  6]\n",
      " [14  8  2]\n",
      " [15 21 15]]\n"
     ]
    }
   ],
   "execution_count": 46
  },
  {
   "metadata": {},
   "cell_type": "markdown",
   "source": "Solve the linear system ( Ax = b ) where ( A ) is a 3x3 matrix, and ( b ) is a 3x1 column vector.\n",
   "id": "e9db52bb8cc09a94"
  },
  {
   "metadata": {
    "ExecuteTime": {
     "end_time": "2025-03-30T19:02:24.189898Z",
     "start_time": "2025-03-30T19:02:24.145850Z"
    }
   },
   "cell_type": "code",
   "source": [
    "A = np.array([[7, 4, 8],\n",
    "              [5, 7, 3],\n",
    "              [7, 8, 5]])\n",
    "\n",
    "b = np.array([[4],\n",
    "              [8],\n",
    "              [8]])\n",
    "\n",
    "x = np.linalg.solve(A,b)\n",
    "print(x)\n"
   ],
   "id": "f20ac49cfa15b9a1",
   "outputs": [
    {
     "name": "stdout",
     "output_type": "stream",
     "text": [
      "[[-4.        ]\n",
      " [ 2.90909091]\n",
      " [ 2.54545455]]\n"
     ]
    }
   ],
   "execution_count": 49
  },
  {
   "metadata": {},
   "cell_type": "markdown",
   "source": "Given a 5x5 matrix, find the row-wise and column-wise sums.",
   "id": "d53f9982efed111e"
  },
  {
   "metadata": {
    "ExecuteTime": {
     "end_time": "2025-03-30T19:04:37.163548Z",
     "start_time": "2025-03-30T19:04:37.144723Z"
    }
   },
   "cell_type": "code",
   "source": [
    "a = np.random.randint(6, size=(5,5))\n",
    "print(a)\n",
    "row_sum = np.sum(a, axis=1)\n",
    "col_rum = np.sum(a, axis=0)\n",
    "print(row_sum, col_rum)"
   ],
   "id": "77d678eef6aef4d2",
   "outputs": [
    {
     "name": "stdout",
     "output_type": "stream",
     "text": [
      "[[0 3 2 2 5]\n",
      " [2 4 4 2 3]\n",
      " [5 2 4 1 4]\n",
      " [2 3 4 5 4]\n",
      " [4 2 3 2 5]]\n",
      "[12 15 16 18 16] [13 14 17 12 21]\n"
     ]
    }
   ],
   "execution_count": 52
  }
 ],
 "metadata": {
  "kernelspec": {
   "display_name": "Python 3",
   "language": "python",
   "name": "python3"
  },
  "language_info": {
   "codemirror_mode": {
    "name": "ipython",
    "version": 2
   },
   "file_extension": ".py",
   "mimetype": "text/x-python",
   "name": "python",
   "nbconvert_exporter": "python",
   "pygments_lexer": "ipython2",
   "version": "2.7.6"
  }
 },
 "nbformat": 4,
 "nbformat_minor": 5
}
