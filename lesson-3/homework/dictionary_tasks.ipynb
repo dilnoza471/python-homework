{
 "cells": [
  {
   "metadata": {},
   "cell_type": "markdown",
   "source": [
    "# Dictionary Tasks\n",
    "#### 1. Get Value: Given a dictionary and a key, retrieve the associated value, considering what to return if the key doesn’t exist."
   ],
   "id": "b50d52f3d75f00dc"
  },
  {
   "metadata": {
    "ExecuteTime": {
     "end_time": "2025-03-03T02:40:56.380923Z",
     "start_time": "2025-03-03T02:40:56.336623Z"
    }
   },
   "cell_type": "code",
   "source": [
    "dict1 = {1:\"one\", 2:\"two\", 3:\"three\"}\n",
    "key = 2\n",
    "if key in dict1:\n",
    "    print(dict1[key])\n",
    "else:\n",
    "    print(f\"{key} not in dict1\")"
   ],
   "id": "18b97b77f81b395a",
   "outputs": [
    {
     "name": "stdout",
     "output_type": "stream",
     "text": [
      "two\n"
     ]
    }
   ],
   "execution_count": 2
  },
  {
   "metadata": {},
   "cell_type": "markdown",
   "source": "#### 2. Check Key: Given a dictionary and a key, check if the key is present in the dictionary.",
   "id": "b2fcdd1dd7b0dbb4"
  },
  {
   "metadata": {
    "ExecuteTime": {
     "end_time": "2025-03-03T02:41:39.644461Z",
     "start_time": "2025-03-03T02:41:39.604243Z"
    }
   },
   "cell_type": "code",
   "source": "print(1 in dict1) #retur true if contains",
   "id": "d1af8cf654920066",
   "outputs": [
    {
     "name": "stdout",
     "output_type": "stream",
     "text": [
      "True\n"
     ]
    }
   ],
   "execution_count": 3
  },
  {
   "metadata": {},
   "cell_type": "markdown",
   "source": "#### 3. Count Keys: Determine the number of keys in the dictionary.\n",
   "id": "14d03bb5521ddb11"
  },
  {
   "metadata": {
    "ExecuteTime": {
     "end_time": "2025-03-03T02:42:32.048172Z",
     "start_time": "2025-03-03T02:42:31.981824Z"
    }
   },
   "cell_type": "code",
   "source": "len(dict1)",
   "id": "e092bd319ec8e0e",
   "outputs": [
    {
     "data": {
      "text/plain": [
       "3"
      ]
     },
     "execution_count": 4,
     "metadata": {},
     "output_type": "execute_result"
    }
   ],
   "execution_count": 4
  },
  {
   "metadata": {},
   "cell_type": "markdown",
   "source": "#### 4. Get All Keys: Create a list that contains all the keys in the dictionary.",
   "id": "1a0416d6d11847bc"
  },
  {
   "metadata": {
    "ExecuteTime": {
     "end_time": "2025-03-03T05:18:22.248117Z",
     "start_time": "2025-03-03T05:18:22.180761Z"
    }
   },
   "cell_type": "code",
   "source": "print(list(dict1.keys()))",
   "id": "258eea2b437b6580",
   "outputs": [
    {
     "name": "stdout",
     "output_type": "stream",
     "text": [
      "[1, 2, 3]\n"
     ]
    }
   ],
   "execution_count": 10
  },
  {
   "metadata": {},
   "cell_type": "markdown",
   "source": "#### 5. Get All Values: Create a list that contains all the values in the dictionary.",
   "id": "3b49d102bada831f"
  },
  {
   "metadata": {
    "ExecuteTime": {
     "end_time": "2025-03-03T05:17:25.952896Z",
     "start_time": "2025-03-03T05:17:25.944324Z"
    }
   },
   "cell_type": "code",
   "source": [
    "values = list(dict1.values())\n",
    "print(values)"
   ],
   "id": "10290f0c55d87d33",
   "outputs": [
    {
     "name": "stdout",
     "output_type": "stream",
     "text": [
      "['one', 'two', 'three']\n"
     ]
    }
   ],
   "execution_count": 9
  },
  {
   "metadata": {},
   "cell_type": "markdown",
   "source": "#### 6. Merge Dictionaries: Given two dictionaries, create a new dictionary that combines both.",
   "id": "9fbc0dbc0e90e911"
  },
  {
   "metadata": {
    "ExecuteTime": {
     "end_time": "2025-03-03T08:15:32.749028Z",
     "start_time": "2025-03-03T08:15:32.714234Z"
    }
   },
   "cell_type": "code",
   "source": [
    "dict2 = {4:\"four\", 5:\"five\", 3:\"three\"}\n",
    "dict1.update(dict2)\n",
    "print(dict1)"
   ],
   "id": "3b8b26d148b10e9c",
   "outputs": [
    {
     "name": "stdout",
     "output_type": "stream",
     "text": [
      "{1: 'one', 2: 'two', 3: 'three', 4: 'four', 5: 'five'}\n"
     ]
    }
   ],
   "execution_count": 13
  },
  {
   "metadata": {},
   "cell_type": "markdown",
   "source": "#### 7. Remove Key: Given a dictionary and a key, remove the key if it exists, handling the case if it doesn’t.",
   "id": "d4f1bc60942ba6c4"
  },
  {
   "metadata": {
    "ExecuteTime": {
     "end_time": "2025-03-03T08:18:01.993118Z",
     "start_time": "2025-03-03T08:18:01.977474Z"
    }
   },
   "cell_type": "code",
   "source": [
    "key =   4\n",
    "if key in dict1:\n",
    "    dict1.pop(key)\n",
    "    print(f\"key {key} removed from dict1\")\n",
    "else:\n",
    "    print(f\"key {key} not in dict1\")\n",
    "print(dict1)"
   ],
   "id": "45958e4985576be6",
   "outputs": [
    {
     "name": "stdout",
     "output_type": "stream",
     "text": [
      "key 4 not in dict1\n",
      "{1: 'one', 2: 'two', 3: 'three', 5: 'five'}\n"
     ]
    }
   ],
   "execution_count": 16
  },
  {
   "metadata": {},
   "cell_type": "markdown",
   "source": "#### 8. Clear Dictionary: Create a new empty dictionary.\n",
   "id": "cb88bce5c725df3c"
  },
  {
   "metadata": {
    "ExecuteTime": {
     "end_time": "2025-03-03T08:18:40.278886Z",
     "start_time": "2025-03-03T08:18:40.226312Z"
    }
   },
   "cell_type": "code",
   "source": [
    "dict2.clear()\n",
    "print(dict2)"
   ],
   "id": "674502cec2693216",
   "outputs": [
    {
     "name": "stdout",
     "output_type": "stream",
     "text": [
      "{}\n"
     ]
    }
   ],
   "execution_count": 17
  },
  {
   "metadata": {},
   "cell_type": "markdown",
   "source": "#### 9. Check if Dictionary is Empty: Determine if a dictionary has any elements.",
   "id": "f8f14174e17d856a"
  },
  {
   "metadata": {
    "ExecuteTime": {
     "end_time": "2025-03-03T08:19:24.728866Z",
     "start_time": "2025-03-03T08:19:24.646333Z"
    }
   },
   "cell_type": "code",
   "source": "print(len(dict1) == 0) #return true if empty",
   "id": "a07bbfdd8b744599",
   "outputs": [
    {
     "name": "stdout",
     "output_type": "stream",
     "text": [
      "False\n"
     ]
    }
   ],
   "execution_count": 18
  },
  {
   "metadata": {},
   "cell_type": "markdown",
   "source": "#### 10. Get Key-Value Pair: Given a dictionary and a key, retrieve the key-value pair if the key exists.",
   "id": "3efabbe42c8fe3a"
  },
  {
   "metadata": {
    "ExecuteTime": {
     "end_time": "2025-03-03T08:21:43.834529Z",
     "start_time": "2025-03-03T08:21:43.801329Z"
    }
   },
   "cell_type": "code",
   "source": [
    "key = 1\n",
    "if key in dict1:\n",
    "    print(f\"{key}: {dict1[key]}\")\n",
    "else:\n",
    "    print(f\"{key} doesn't exist in dict1\")"
   ],
   "id": "215b389285f3b3ff",
   "outputs": [
    {
     "name": "stdout",
     "output_type": "stream",
     "text": [
      "1: one\n"
     ]
    }
   ],
   "execution_count": 21
  },
  {
   "metadata": {},
   "cell_type": "markdown",
   "source": "#### 11. Update Value: Given a dictionary, update the value for a specified key.",
   "id": "9758d04e3a873bfa"
  },
  {
   "metadata": {
    "ExecuteTime": {
     "end_time": "2025-03-03T08:22:32.844420Z",
     "start_time": "2025-03-03T08:22:32.815054Z"
    }
   },
   "cell_type": "code",
   "source": [
    "dict1.update({1:\"bir\"})\n",
    "print(dict1)"
   ],
   "id": "e3cbd3b08388a64d",
   "outputs": [
    {
     "name": "stdout",
     "output_type": "stream",
     "text": [
      "{1: 'bir', 2: 'two', 3: 'three', 5: 'five'}\n"
     ]
    }
   ],
   "execution_count": 22
  },
  {
   "metadata": {},
   "cell_type": "markdown",
   "source": "#### 12. Count Value Occurrences: Given a dictionary, count how many times a specific value appears across the keys.",
   "id": "1681992f0fd26111"
  },
  {
   "metadata": {
    "ExecuteTime": {
     "end_time": "2025-03-03T08:25:33.876308Z",
     "start_time": "2025-03-03T08:25:33.816111Z"
    }
   },
   "cell_type": "code",
   "source": [
    "dict3 = {\"Dylan\":2007, \"Alice\":2005, \"Bella\":2005, \"Sam\":2003}\n",
    "value = 2005\n",
    "count = 0\n",
    "for val in dict3.values():\n",
    "    if val == value:\n",
    "        count += 1\n",
    "print(count)\n"
   ],
   "id": "484edae02715ed62",
   "outputs": [
    {
     "name": "stdout",
     "output_type": "stream",
     "text": [
      "2\n"
     ]
    }
   ],
   "execution_count": 23
  },
  {
   "metadata": {},
   "cell_type": "markdown",
   "source": "#### 13. Invert Dictionary: Given a dictionary, create a new dictionary that swaps keys and values.",
   "id": "6b965eb97322404b"
  },
  {
   "metadata": {
    "ExecuteTime": {
     "end_time": "2025-03-03T08:27:01.860134Z",
     "start_time": "2025-03-03T08:27:01.813935Z"
    }
   },
   "cell_type": "code",
   "source": [
    "swapped = {x : y for y, x in dict3.items()}\n",
    "print(dict3)\n",
    "print(swapped)"
   ],
   "id": "1db020a50c28451e",
   "outputs": [
    {
     "name": "stdout",
     "output_type": "stream",
     "text": [
      "{'Dylan': 2007, 'Alice': 2005, 'Bella': 2005, 'Sam': 2003}\n",
      "{2007: 'Dylan', 2005: 'Bella', 2003: 'Sam'}\n"
     ]
    }
   ],
   "execution_count": 24
  },
  {
   "metadata": {},
   "cell_type": "markdown",
   "source": "#### 14. Find Keys with Value: Given a dictionary and a value, create a list of all keys that have that value.",
   "id": "ec050c5b7f635daf"
  },
  {
   "metadata": {
    "ExecuteTime": {
     "end_time": "2025-03-03T08:29:25.429975Z",
     "start_time": "2025-03-03T08:29:25.414919Z"
    }
   },
   "cell_type": "code",
   "source": [
    "#value = 2005\n",
    "keys = [x for x,y in dict3.items() if y == value]\n",
    "print(keys)"
   ],
   "id": "3591eec4e509ece7",
   "outputs": [
    {
     "name": "stdout",
     "output_type": "stream",
     "text": [
      "['Alice', 'Bella']\n"
     ]
    }
   ],
   "execution_count": 25
  },
  {
   "metadata": {},
   "cell_type": "markdown",
   "source": "#### 15. Create a Dictionary from Lists: Given two lists (one of keys and one of values), create a dictionary that pairs them.",
   "id": "95974a4782136e58"
  },
  {
   "metadata": {
    "ExecuteTime": {
     "end_time": "2025-03-03T08:37:02.063914Z",
     "start_time": "2025-03-03T08:37:02.021396Z"
    }
   },
   "cell_type": "code",
   "source": [
    "x = [\"name\", \"dob\", \"age\", \"fav color\"]\n",
    "y = [\"Bella\", \"2009\", \"16\", \"blue\"]\n",
    "if len(x) == len(y):\n",
    "    dict4 = {x[a] : y[a] for a in range(len(x))}\n",
    "    print(dict4)\n",
    "else:\n",
    "    print(\"keys and values lists are not of the same length\")\n"
   ],
   "id": "9b17bfe4529f949f",
   "outputs": [
    {
     "name": "stdout",
     "output_type": "stream",
     "text": [
      "{'name': 'Bella', 'dob': '2009', 'age': '16', 'fav color': 'blue'}\n"
     ]
    }
   ],
   "execution_count": 31
  },
  {
   "metadata": {},
   "cell_type": "markdown",
   "source": "#### 16. Check for Nested Dictionaries: Given a dictionary, check if any values are also dictionaries.",
   "id": "bf8051ad57e9448d"
  },
  {
   "metadata": {
    "ExecuteTime": {
     "end_time": "2025-03-03T08:49:56.602792Z",
     "start_time": "2025-03-03T08:49:56.589636Z"
    }
   },
   "cell_type": "code",
   "source": [
    "def check_nested(dict33):\n",
    "    nested = False\n",
    "    for k, v in dict33.items():\n",
    "        if type(v) == type(dict33):\n",
    "            print(\"Nested\")\n",
    "            nested = True\n",
    "            break\n",
    "    if not nested:\n",
    "        print(\"not nested\")\n",
    "\n",
    "nested_dict = {\"child1\": {\"name\":\"Alice\", \"age\":16}, \"child2\": {\"name\":\"Bella\", \"age\":12}}\n",
    "check_nested(nested_dict)\n",
    "check_nested(dict3)"
   ],
   "id": "9b68da095389af9",
   "outputs": [
    {
     "name": "stdout",
     "output_type": "stream",
     "text": [
      "Nested\n",
      "not nested\n"
     ]
    }
   ],
   "execution_count": 39
  },
  {
   "metadata": {},
   "cell_type": "markdown",
   "source": "#### 17. Get Nested Value: Given a nested dictionary, retrieve a value from within one of the inner dictionaries.",
   "id": "2b32e7907c0b7717"
  },
  {
   "metadata": {
    "ExecuteTime": {
     "end_time": "2025-03-03T13:27:34.568269Z",
     "start_time": "2025-03-03T13:27:34.555740Z"
    }
   },
   "cell_type": "code",
   "source": "print(nested_dict[\"child1\"][\"name\"])",
   "id": "fddf9d02dbd06746",
   "outputs": [
    {
     "name": "stdout",
     "output_type": "stream",
     "text": [
      "Alice\n"
     ]
    }
   ],
   "execution_count": 40
  },
  {
   "metadata": {},
   "cell_type": "markdown",
   "source": "#### 18. Create Default Dictionary: Create a dictionary that provides a default value for missing keys.",
   "id": "6a9cec65cd8d7c29"
  },
  {
   "metadata": {
    "ExecuteTime": {
     "end_time": "2025-03-03T13:31:55.501098Z",
     "start_time": "2025-03-03T13:31:55.491875Z"
    }
   },
   "cell_type": "code",
   "source": [
    "from _collections import defaultdict\n",
    "default_dict = defaultdict(int)\n",
    "default_dict[\"b\"] = 4\n",
    "default_dict[\"c\"] = 5\n",
    "print(default_dict[\"a\"])"
   ],
   "id": "6769d81cd5bc90ab",
   "outputs": [
    {
     "name": "stdout",
     "output_type": "stream",
     "text": [
      "0\n"
     ]
    }
   ],
   "execution_count": 42
  },
  {
   "metadata": {},
   "cell_type": "markdown",
   "source": "#### 19. Count Unique Values: Given a dictionary, determine the number of unique values it contains.",
   "id": "abe834af550293ba"
  },
  {
   "metadata": {
    "ExecuteTime": {
     "end_time": "2025-03-03T13:34:49.060205Z",
     "start_time": "2025-03-03T13:34:49.045784Z"
    }
   },
   "cell_type": "code",
   "source": [
    "def unique_val(d1):\n",
    "    vals = set()\n",
    "    for k, v in d1.items():\n",
    "        vals.add(v)\n",
    "    return len(vals)\n",
    "print(unique_val(dict3))\n",
    "print(unique_val(dict2))"
   ],
   "id": "d143959c3ab9159c",
   "outputs": [
    {
     "name": "stdout",
     "output_type": "stream",
     "text": [
      "3\n",
      "0\n"
     ]
    }
   ],
   "execution_count": 44
  },
  {
   "metadata": {},
   "cell_type": "markdown",
   "source": "#### 20. Sort Dictionary by Key: Create a new dictionary sorted by keys.",
   "id": "1a238c16ddf1a13a"
  },
  {
   "metadata": {
    "ExecuteTime": {
     "end_time": "2025-03-03T13:37:21.878364Z",
     "start_time": "2025-03-03T13:37:21.868722Z"
    }
   },
   "cell_type": "code",
   "source": [
    "print(dict3)\n",
    "sorted_dict = dict(sorted(dict3.items()))\n",
    "print(sorted_dict)"
   ],
   "id": "17f1e2b0ac5e7e7",
   "outputs": [
    {
     "name": "stdout",
     "output_type": "stream",
     "text": [
      "{'Dylan': 2007, 'Alice': 2005, 'Bella': 2005, 'Sam': 2003}\n",
      "{'Alice': 2005, 'Bella': 2005, 'Dylan': 2007, 'Sam': 2003}\n"
     ]
    }
   ],
   "execution_count": 46
  },
  {
   "metadata": {},
   "cell_type": "markdown",
   "source": "#### 21. Sort Dictionary by Value: Create a new dictionary sorted by values.",
   "id": "ff408afbcda98e51"
  },
  {
   "metadata": {
    "ExecuteTime": {
     "end_time": "2025-03-03T13:38:34.547123Z",
     "start_time": "2025-03-03T13:38:34.541236Z"
    }
   },
   "cell_type": "code",
   "source": [
    "print(dict3)\n",
    "sorted_dict = dict(sorted(dict3.items(), key=lambda x: x[1]))\n",
    "print(sorted_dict)"
   ],
   "id": "41b4ffef073a29ac",
   "outputs": [
    {
     "name": "stdout",
     "output_type": "stream",
     "text": [
      "{'Dylan': 2007, 'Alice': 2005, 'Bella': 2005, 'Sam': 2003}\n",
      "{'Sam': 2003, 'Alice': 2005, 'Bella': 2005, 'Dylan': 2007}\n"
     ]
    }
   ],
   "execution_count": 48
  },
  {
   "metadata": {},
   "cell_type": "markdown",
   "source": "#### 22. Filter by Value: Given a dictionary, create a new dictionary that only includes items with values that meet a certain condition.",
   "id": "e11d738989ec00bc"
  },
  {
   "metadata": {
    "ExecuteTime": {
     "end_time": "2025-03-03T13:42:02.917443Z",
     "start_time": "2025-03-03T13:42:02.882500Z"
    }
   },
   "cell_type": "code",
   "source": [
    "students = {\"Alice\":17, \"Bob\": 20, \"xavier\":19, \"Tyler\":23, \"Sally\": 14}\n",
    "#pick students who are older than 18\n",
    "allowed = dict(x for x in students.items() if x[1] >= 18)\n",
    "print(allowed)"
   ],
   "id": "32bdf1e740a37677",
   "outputs": [
    {
     "name": "stdout",
     "output_type": "stream",
     "text": [
      "{'Bob': 20, 'xavier': 19, 'Tyler': 23}\n"
     ]
    }
   ],
   "execution_count": 49
  },
  {
   "metadata": {},
   "cell_type": "markdown",
   "source": "#### 23. Check for Common Keys: Given two dictionaries, check if they have any keys in common.",
   "id": "a5218eee4d3818f3"
  },
  {
   "metadata": {
    "ExecuteTime": {
     "end_time": "2025-03-03T13:44:07.398204Z",
     "start_time": "2025-03-03T13:44:07.382944Z"
    }
   },
   "cell_type": "code",
   "source": "print(bool(students.keys() & dict3.keys())) #return true if they have common keys",
   "id": "c93a84fd9b0bd18d",
   "outputs": [
    {
     "name": "stdout",
     "output_type": "stream",
     "text": [
      "True\n"
     ]
    }
   ],
   "execution_count": 51
  },
  {
   "metadata": {},
   "cell_type": "markdown",
   "source": "#### 24. Create Dictionary from Tuple: Given a tuple of key-value pairs, create a dictionary from it.",
   "id": "74e5f9d67b35cb60"
  },
  {
   "metadata": {
    "ExecuteTime": {
     "end_time": "2025-03-03T13:47:03.452848Z",
     "start_time": "2025-03-03T13:47:03.442262Z"
    }
   },
   "cell_type": "code",
   "source": [
    "tuple1 = (('a', 1), ('b', 2), ('c', 3))\n",
    "dict4 = {x[0]: x[1] for x in tuple1}\n",
    "print(dict4)"
   ],
   "id": "fe0935f85c06a859",
   "outputs": [
    {
     "name": "stdout",
     "output_type": "stream",
     "text": [
      "{'a': 1, 'b': 2, 'c': 3}\n"
     ]
    }
   ],
   "execution_count": 53
  },
  {
   "metadata": {},
   "cell_type": "markdown",
   "source": "#### 25. Get the First Key-Value Pair: Retrieve the first key-value pair from a dictionary.",
   "id": "b1a2a903722cc6e9"
  },
  {
   "metadata": {
    "ExecuteTime": {
     "end_time": "2025-03-03T13:48:58.475627Z",
     "start_time": "2025-03-03T13:48:58.461437Z"
    }
   },
   "cell_type": "code",
   "source": "next(iter(dict4.items()))",
   "id": "a0971c5695ae2eb8",
   "outputs": [
    {
     "data": {
      "text/plain": [
       "('a', 1)"
      ]
     },
     "execution_count": 54,
     "metadata": {},
     "output_type": "execute_result"
    }
   ],
   "execution_count": 54
  }
 ],
 "metadata": {
  "kernelspec": {
   "display_name": "Python 3",
   "language": "python",
   "name": "python3"
  },
  "language_info": {
   "codemirror_mode": {
    "name": "ipython",
    "version": 2
   },
   "file_extension": ".py",
   "mimetype": "text/x-python",
   "name": "python",
   "nbconvert_exporter": "python",
   "pygments_lexer": "ipython2",
   "version": "2.7.6"
  }
 },
 "nbformat": 4,
 "nbformat_minor": 5
}
