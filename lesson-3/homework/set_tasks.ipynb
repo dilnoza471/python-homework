{
 "cells": [
  {
   "metadata": {},
   "cell_type": "markdown",
   "source": [
    "# Set Tasks\n",
    "#### 1. Union of Sets: Given two sets, create a new set that contains all unique elements from both sets."
   ],
   "id": "ba39f1c3f4bb81d8"
  },
  {
   "metadata": {
    "ExecuteTime": {
     "end_time": "2025-03-03T02:17:40.524851Z",
     "start_time": "2025-03-03T02:17:40.512759Z"
    }
   },
   "cell_type": "code",
   "source": [
    "s1 = {\"apple\", \"banana\", \"cherry\"}\n",
    "s2 = {\"apple\", \"tangerine\", \"orange\"}\n",
    "print(s1 | s2)"
   ],
   "id": "56bd6645e04dd5b7",
   "outputs": [
    {
     "name": "stdout",
     "output_type": "stream",
     "text": [
      "{'apple', 'orange', 'cherry', 'banana', 'tangerine'}\n"
     ]
    }
   ],
   "execution_count": 17
  },
  {
   "metadata": {},
   "cell_type": "markdown",
   "source": "#### 2. Intersection of Sets: Given two sets, create a new set that contains elements common to both sets.",
   "id": "a62d761c440fcebd"
  },
  {
   "metadata": {
    "ExecuteTime": {
     "end_time": "2025-03-03T02:06:43.964725Z",
     "start_time": "2025-03-03T02:06:43.949064Z"
    }
   },
   "cell_type": "code",
   "source": "print(s1 & s2)",
   "id": "530440a580fc4c32",
   "outputs": [
    {
     "name": "stdout",
     "output_type": "stream",
     "text": [
      "{'apple'}\n"
     ]
    }
   ],
   "execution_count": 2
  },
  {
   "metadata": {},
   "cell_type": "markdown",
   "source": "#### 3. Difference of Sets: Given two sets, create a new set with elements from the first set that are not in the second.",
   "id": "9f27bbfd01cd5a7"
  },
  {
   "metadata": {
    "ExecuteTime": {
     "end_time": "2025-03-03T02:07:39.419310Z",
     "start_time": "2025-03-03T02:07:39.411204Z"
    }
   },
   "cell_type": "code",
   "source": "print(s1 - s2)",
   "id": "ff3ead76e158aa2c",
   "outputs": [
    {
     "name": "stdout",
     "output_type": "stream",
     "text": [
      "{'cherry', 'banana'}\n"
     ]
    }
   ],
   "execution_count": 4
  },
  {
   "metadata": {},
   "cell_type": "markdown",
   "source": "#### 4. Check Subset: Given two sets, check if one set is a subset of the other.",
   "id": "9881a0855652516b"
  },
  {
   "metadata": {
    "ExecuteTime": {
     "end_time": "2025-03-03T02:08:15.762006Z",
     "start_time": "2025-03-03T02:08:15.745775Z"
    }
   },
   "cell_type": "code",
   "source": "s1.issubset(s2)",
   "id": "5e8a91c33cfb51d3",
   "outputs": [
    {
     "data": {
      "text/plain": [
       "False"
      ]
     },
     "execution_count": 5,
     "metadata": {},
     "output_type": "execute_result"
    }
   ],
   "execution_count": 5
  },
  {
   "metadata": {},
   "cell_type": "markdown",
   "source": "#### 5. Check Element: Given a set and an element, check if the element exists in the set.",
   "id": "69558773d848798d"
  },
  {
   "metadata": {
    "ExecuteTime": {
     "end_time": "2025-03-03T02:09:09.320454Z",
     "start_time": "2025-03-03T02:09:09.312968Z"
    }
   },
   "cell_type": "code",
   "source": [
    "elem = \"tangerine\"\n",
    "print(elem in s1)\n",
    "print(elem in s2)"
   ],
   "id": "f36b3a2e48288cdf",
   "outputs": [
    {
     "name": "stdout",
     "output_type": "stream",
     "text": [
      "False\n",
      "True\n"
     ]
    }
   ],
   "execution_count": 6
  },
  {
   "metadata": {},
   "cell_type": "markdown",
   "source": "#### 6. Set Length: Determine the number of unique elements in a set.",
   "id": "209c027d80ec30ca"
  },
  {
   "metadata": {},
   "cell_type": "code",
   "outputs": [],
   "execution_count": null,
   "source": "len(s1) #set always has unique elements",
   "id": "4a56b09dd8ca01c4"
  },
  {
   "metadata": {},
   "cell_type": "markdown",
   "source": "#### 7. Convert List to Set: Given a list, create a new set that contains only the unique elements from that list.",
   "id": "db884a9f527788cb"
  },
  {
   "metadata": {
    "ExecuteTime": {
     "end_time": "2025-03-03T02:24:36.648371Z",
     "start_time": "2025-03-03T02:24:36.642661Z"
    }
   },
   "cell_type": "code",
   "source": [
    "l1 = [1,3,5,2,3,1,4,6,8,5]\n",
    "nums = set(l1)\n",
    "print(nums)"
   ],
   "id": "44e65762fb7df7ad",
   "outputs": [
    {
     "name": "stdout",
     "output_type": "stream",
     "text": [
      "{1, 2, 3, 4, 5, 6, 8}\n"
     ]
    }
   ],
   "execution_count": 26
  },
  {
   "metadata": {},
   "cell_type": "markdown",
   "source": "#### 8. Remove Element: Given a set and an element, remove the element if it exists.",
   "id": "1e91f4becfb75e36"
  },
  {
   "metadata": {
    "ExecuteTime": {
     "end_time": "2025-03-03T02:24:41.581996Z",
     "start_time": "2025-03-03T02:24:41.575304Z"
    }
   },
   "cell_type": "code",
   "source": [
    "print(\"Before:\", nums)\n",
    "nums.remove(3)\n",
    "print(\"After: \", nums)"
   ],
   "id": "8008cf4a12523e3a",
   "outputs": [
    {
     "name": "stdout",
     "output_type": "stream",
     "text": [
      "Before: {1, 2, 3, 4, 5, 6, 8}\n",
      "After:  {1, 2, 4, 5, 6, 8}\n"
     ]
    }
   ],
   "execution_count": 27
  },
  {
   "metadata": {},
   "cell_type": "markdown",
   "source": "#### 9. Clear Set: Create a new empty set from an existing set.",
   "id": "1efd4b4485b63dbe"
  },
  {
   "metadata": {
    "ExecuteTime": {
     "end_time": "2025-03-03T02:24:45.079820Z",
     "start_time": "2025-03-03T02:24:45.074344Z"
    }
   },
   "cell_type": "code",
   "source": [
    "del_set = {\"hello\", \"halo\", \"bonjour\", \"watashi\"}\n",
    "del_set.clear()\n",
    "print(del_set)"
   ],
   "id": "95fb849a2949722a",
   "outputs": [
    {
     "name": "stdout",
     "output_type": "stream",
     "text": [
      "set()\n"
     ]
    }
   ],
   "execution_count": 28
  },
  {
   "metadata": {},
   "cell_type": "markdown",
   "source": "#### 10. Check if Set is Empty: Determine if a set has any elements.",
   "id": "e3e51e062e183123"
  },
  {
   "metadata": {
    "ExecuteTime": {
     "end_time": "2025-03-03T02:24:48.529698Z",
     "start_time": "2025-03-03T02:24:48.522558Z"
    }
   },
   "cell_type": "code",
   "source": "print(len(del_set) == 0) #return true if empty",
   "id": "20a16a7dfb2a1477",
   "outputs": [
    {
     "name": "stdout",
     "output_type": "stream",
     "text": [
      "True\n"
     ]
    }
   ],
   "execution_count": 29
  },
  {
   "metadata": {},
   "cell_type": "markdown",
   "source": "#### 11. Symmetric Difference: Given two sets, create a new set that contains elements that are in either set but not in both.",
   "id": "180a9aabd873c191"
  },
  {
   "metadata": {
    "ExecuteTime": {
     "end_time": "2025-03-03T02:24:51.367153Z",
     "start_time": "2025-03-03T02:24:51.361302Z"
    }
   },
   "cell_type": "code",
   "source": "print(s1 ^ s2)",
   "id": "2c9e3b67b0e99665",
   "outputs": [
    {
     "name": "stdout",
     "output_type": "stream",
     "text": [
      "{'orange', 'tangerine', 'cherry', 'banana'}\n"
     ]
    }
   ],
   "execution_count": 30
  },
  {
   "metadata": {},
   "cell_type": "markdown",
   "source": "#### 12. Add Element: Given a set and an element, add the element to the set if it is not already present.",
   "id": "5ab245bb6af2110"
  },
  {
   "metadata": {
    "ExecuteTime": {
     "end_time": "2025-03-03T02:24:54.197848Z",
     "start_time": "2025-03-03T02:24:54.191404Z"
    }
   },
   "cell_type": "code",
   "source": [
    "elem = \"dragon fruit\"\n",
    "print(\"Before: \",s1)\n",
    "if elem not in s1:\n",
    "    s1.add(elem)\n",
    "print(\"After: \", s1)"
   ],
   "id": "1f3821f9f6dead25",
   "outputs": [
    {
     "name": "stdout",
     "output_type": "stream",
     "text": [
      "Before:  {'apple', 'cherry', 'banana'}\n",
      "After:  {'dragon fruit', 'apple', 'cherry', 'banana'}\n"
     ]
    }
   ],
   "execution_count": 31
  },
  {
   "metadata": {},
   "cell_type": "markdown",
   "source": "#### 13. Pop Element: Given a set, remove and return an arbitrary element from the set.\n",
   "id": "67ea3f1b408b4e6d"
  },
  {
   "metadata": {
    "ExecuteTime": {
     "end_time": "2025-03-03T02:25:01.039917Z",
     "start_time": "2025-03-03T02:25:01.031566Z"
    }
   },
   "cell_type": "code",
   "source": [
    "print(\"Before: \",s1)\n",
    "print(s1.pop())\n"
   ],
   "id": "fc4e49c2e4b6ca5b",
   "outputs": [
    {
     "name": "stdout",
     "output_type": "stream",
     "text": [
      "Before:  {'dragon fruit', 'apple', 'cherry', 'banana'}\n",
      "apple\n"
     ]
    }
   ],
   "execution_count": 32
  },
  {
   "metadata": {},
   "cell_type": "markdown",
   "source": "#### 14. Find Maximum: From a given set of numbers, find the maximum element.",
   "id": "7fd948d3995344da"
  },
  {
   "metadata": {
    "ExecuteTime": {
     "end_time": "2025-03-03T02:25:05.628065Z",
     "start_time": "2025-03-03T02:25:05.618827Z"
    }
   },
   "cell_type": "code",
   "source": "print(max(nums))",
   "id": "c3cfea0bb86d10dc",
   "outputs": [
    {
     "name": "stdout",
     "output_type": "stream",
     "text": [
      "8\n"
     ]
    }
   ],
   "execution_count": 33
  },
  {
   "metadata": {},
   "cell_type": "markdown",
   "source": "#### 15. Find Minimum: From a given set of numbers, find the minimum element.",
   "id": "bd167472b10d69d2"
  },
  {
   "metadata": {
    "ExecuteTime": {
     "end_time": "2025-03-03T02:25:08.146148Z",
     "start_time": "2025-03-03T02:25:08.134162Z"
    }
   },
   "cell_type": "code",
   "source": "print(min(nums))",
   "id": "15ac9c9e6c8a2b6b",
   "outputs": [
    {
     "name": "stdout",
     "output_type": "stream",
     "text": [
      "1\n"
     ]
    }
   ],
   "execution_count": 34
  },
  {
   "metadata": {},
   "cell_type": "markdown",
   "source": "#### 16. Filter Even Numbers: Given a set of integers, create a new set that contains only the even numbers.",
   "id": "b8bec39a6f19b679"
  },
  {
   "metadata": {
    "ExecuteTime": {
     "end_time": "2025-03-03T02:25:10.675233Z",
     "start_time": "2025-03-03T02:25:10.668576Z"
    }
   },
   "cell_type": "code",
   "source": [
    "even = set()\n",
    "for num in nums:\n",
    "    if num % 2 == 0:\n",
    "        even.add(num)\n",
    "print(even)"
   ],
   "id": "f02c5e31bae1516e",
   "outputs": [
    {
     "name": "stdout",
     "output_type": "stream",
     "text": [
      "{8, 2, 4, 6}\n"
     ]
    }
   ],
   "execution_count": 35
  },
  {
   "metadata": {},
   "cell_type": "markdown",
   "source": "#### 17. Filter Odd Numbers: Given a set of integers, create a new set that contains only the odd numbers.",
   "id": "7f3c25137d51acd3"
  },
  {
   "metadata": {
    "ExecuteTime": {
     "end_time": "2025-03-03T02:26:02.161361Z",
     "start_time": "2025-03-03T02:26:02.154948Z"
    }
   },
   "cell_type": "code",
   "source": [
    "odd = set()\n",
    "for num in nums:\n",
    "    if num % 2 == 1:\n",
    "        odd.add(num)\n",
    "print(odd)"
   ],
   "id": "56c2fcd71ed879aa",
   "outputs": [
    {
     "name": "stdout",
     "output_type": "stream",
     "text": [
      "{1, 5}\n"
     ]
    }
   ],
   "execution_count": 37
  },
  {
   "metadata": {},
   "cell_type": "markdown",
   "source": "#### 18. Create a Set of a Range: Create a set of numbers in a specified range (e.g., from 1 to 10).",
   "id": "6d4fedbc7ae6da53"
  },
  {
   "metadata": {
    "ExecuteTime": {
     "end_time": "2025-03-03T02:28:07.873697Z",
     "start_time": "2025-03-03T02:28:07.865662Z"
    }
   },
   "cell_type": "code",
   "source": [
    "import random\n",
    "rand_set = set()\n",
    "for i in range(10):\n",
    "    rand_set.add(random.randint(1, 10))\n",
    "\n",
    "print(rand_set)"
   ],
   "id": "eff6baec2d494980",
   "outputs": [
    {
     "name": "stdout",
     "output_type": "stream",
     "text": [
      "{1, 2, 3, 6, 7, 8, 9}\n"
     ]
    }
   ],
   "execution_count": 40
  },
  {
   "metadata": {},
   "cell_type": "markdown",
   "source": "#### 19. Merge and Deduplicate: Given two lists, create a new set that merges both lists and removes duplicates.",
   "id": "23128a44f497ece1"
  },
  {
   "metadata": {
    "ExecuteTime": {
     "end_time": "2025-03-03T02:30:56.718931Z",
     "start_time": "2025-03-03T02:30:56.709551Z"
    }
   },
   "cell_type": "code",
   "source": [
    "l1 = [1,2,43,4,3,4,5,3,2,4,6,6,5,3,3,13,4,3]\n",
    "l2 = [2,5,3,2,3,6,7,7,5,3,2,2,5,3,8,9]\n",
    "union = set().union(l1, l2)\n",
    "print(union)"
   ],
   "id": "9cf91d7f77cb211b",
   "outputs": [
    {
     "name": "stdout",
     "output_type": "stream",
     "text": [
      "{1, 2, 3, 4, 5, 6, 7, 8, 9, 43, 13}\n"
     ]
    }
   ],
   "execution_count": 42
  },
  {
   "metadata": {},
   "cell_type": "markdown",
   "source": "#### 20. Check Disjoint Sets: Given two sets, check if they have no elements in common.",
   "id": "81e91ff677c7aa38"
  },
  {
   "metadata": {
    "ExecuteTime": {
     "end_time": "2025-03-03T02:31:37.295264Z",
     "start_time": "2025-03-03T02:31:37.286982Z"
    }
   },
   "cell_type": "code",
   "source": "print(s1.isdisjoint(s2)) #return True if disjoint",
   "id": "8d5e376a773f223e",
   "outputs": [
    {
     "name": "stdout",
     "output_type": "stream",
     "text": [
      "True\n"
     ]
    }
   ],
   "execution_count": 43
  },
  {
   "metadata": {},
   "cell_type": "markdown",
   "source": "#### 21. Remove Duplicates from a List: Given a list, create a set from it to remove duplicates, then convert back to a list.",
   "id": "382d765d465952da"
  },
  {
   "metadata": {
    "ExecuteTime": {
     "end_time": "2025-03-03T02:32:58.378316Z",
     "start_time": "2025-03-03T02:32:58.372883Z"
    }
   },
   "cell_type": "code",
   "source": [
    "print(l1)\n",
    "l1 = list(set(l1))\n",
    "print(l1)"
   ],
   "id": "70aed978b4b2ef27",
   "outputs": [
    {
     "name": "stdout",
     "output_type": "stream",
     "text": [
      "[1, 2, 43, 4, 3, 4, 5, 3, 2, 4, 6, 6, 5, 3, 3, 13, 4, 3]\n",
      "[1, 2, 3, 4, 5, 6, 43, 13]\n"
     ]
    }
   ],
   "execution_count": 44
  },
  {
   "metadata": {},
   "cell_type": "markdown",
   "source": "#### 22. Count Unique Elements: Given a list, determine the count of unique elements using a set.",
   "id": "763a1a687cf5a1ce"
  },
  {
   "metadata": {
    "ExecuteTime": {
     "end_time": "2025-03-03T02:34:43.612524Z",
     "start_time": "2025-03-03T02:34:43.603981Z"
    }
   },
   "cell_type": "code",
   "source": [
    "print(\"num of elements: \", len(l2))\n",
    "print(\"num of unique elements: \", len(set(l2)))"
   ],
   "id": "d0b64696c5e59812",
   "outputs": [
    {
     "name": "stdout",
     "output_type": "stream",
     "text": [
      "num of elements:  16\n",
      "num of unique elements:  7\n"
     ]
    }
   ],
   "execution_count": 46
  },
  {
   "metadata": {},
   "cell_type": "markdown",
   "source": "#### 23. Generate Random Set: Create a set with a specified number of random integers within a certain range.",
   "id": "e25a24b41dc4ee4d"
  },
  {
   "metadata": {
    "ExecuteTime": {
     "end_time": "2025-03-03T02:37:56.402929Z",
     "start_time": "2025-03-03T02:37:56.372006Z"
    }
   },
   "cell_type": "code",
   "source": [
    "def random_set(n, start, end):\n",
    "    rand_set2 = set()\n",
    "    for n in range(n):\n",
    "        rand_set2.add(random.randint(start, end))\n",
    "    return rand_set2\n",
    "print(random_set(5, 12, 20))"
   ],
   "id": "9f79d78f962e34f4",
   "outputs": [
    {
     "name": "stdout",
     "output_type": "stream",
     "text": [
      "{18, 12, 20, 14}\n"
     ]
    }
   ],
   "execution_count": 48
  }
 ],
 "metadata": {
  "kernelspec": {
   "display_name": "Python 3",
   "language": "python",
   "name": "python3"
  },
  "language_info": {
   "codemirror_mode": {
    "name": "ipython",
    "version": 2
   },
   "file_extension": ".py",
   "mimetype": "text/x-python",
   "name": "python",
   "nbconvert_exporter": "python",
   "pygments_lexer": "ipython2",
   "version": "2.7.6"
  }
 },
 "nbformat": 4,
 "nbformat_minor": 5
}
