{
 "cells": [
  {
   "metadata": {},
   "cell_type": "markdown",
   "source": [
    "# Tuple tasks\n",
    "#### 1. Count Occurrences: Given a tuple and an element, find how many times the element appears in the tuple."
   ],
   "id": "fefb3db22e61f678"
  },
  {
   "metadata": {
    "ExecuteTime": {
     "end_time": "2025-03-02T08:21:36.277790Z",
     "start_time": "2025-03-02T08:21:36.249770Z"
    }
   },
   "cell_type": "code",
   "source": [
    "t = (2,3,1,4,5,3,7,5,6,3,2,4,1) #tuple\n",
    "t.count(3)"
   ],
   "id": "a215f353cae2f5f5",
   "outputs": [
    {
     "data": {
      "text/plain": [
       "3"
      ]
     },
     "execution_count": 2,
     "metadata": {},
     "output_type": "execute_result"
    }
   ],
   "execution_count": 2
  },
  {
   "metadata": {},
   "cell_type": "markdown",
   "source": "#### 2. Max Element: From a given tuple, determine the largest element.",
   "id": "a910be63dc4c4799"
  },
  {
   "metadata": {
    "ExecuteTime": {
     "end_time": "2025-03-02T08:22:17.961524Z",
     "start_time": "2025-03-02T08:22:17.926582Z"
    }
   },
   "cell_type": "code",
   "source": "max(t)",
   "id": "7d4cb58a5536deb7",
   "outputs": [
    {
     "data": {
      "text/plain": [
       "7"
      ]
     },
     "execution_count": 3,
     "metadata": {},
     "output_type": "execute_result"
    }
   ],
   "execution_count": 3
  },
  {
   "metadata": {},
   "cell_type": "markdown",
   "source": "#### 3. Min Element: From a given tuple, determine the smallest element.",
   "id": "be2f50b454acf815"
  },
  {
   "metadata": {
    "ExecuteTime": {
     "end_time": "2025-03-02T08:23:25.232502Z",
     "start_time": "2025-03-02T08:23:25.183767Z"
    }
   },
   "cell_type": "code",
   "source": "min(t)",
   "id": "1028d960b1b75384",
   "outputs": [
    {
     "data": {
      "text/plain": [
       "1"
      ]
     },
     "execution_count": 4,
     "metadata": {},
     "output_type": "execute_result"
    }
   ],
   "execution_count": 4
  },
  {
   "metadata": {},
   "cell_type": "markdown",
   "source": "#### 4. Check Element: Given a tuple and an element, check if the element is present in the tuple.",
   "id": "f25358d34299b1f1"
  },
  {
   "metadata": {
    "ExecuteTime": {
     "end_time": "2025-03-02T08:44:31.231499Z",
     "start_time": "2025-03-02T08:44:31.212557Z"
    }
   },
   "cell_type": "code",
   "source": [
    "elem = 3\n",
    "print(elem in t)"
   ],
   "id": "3fc0ec4efb1a3d45",
   "outputs": [
    {
     "name": "stdout",
     "output_type": "stream",
     "text": [
      "True\n"
     ]
    }
   ],
   "execution_count": 16
  },
  {
   "metadata": {},
   "cell_type": "markdown",
   "source": "#### 5. First Element: Access the first element of a tuple, considering what to return if the tuple is empty.",
   "id": "3c8108f7f343eba9"
  },
  {
   "metadata": {
    "ExecuteTime": {
     "end_time": "2025-03-02T08:34:13.684531Z",
     "start_time": "2025-03-02T08:34:13.654925Z"
    }
   },
   "cell_type": "code",
   "source": [
    "if len(t) > 0:\n",
    "    print(\"First element is \", t[0])\n",
    "else:\n",
    "    print(\"Tuple is empty\")"
   ],
   "id": "f3a660b763e4f9dc",
   "outputs": [
    {
     "name": "stdout",
     "output_type": "stream",
     "text": [
      "First element is  2\n"
     ]
    }
   ],
   "execution_count": 9
  },
  {
   "metadata": {},
   "cell_type": "markdown",
   "source": "#### 6. Last Element: Access the last element of a tuple, considering what to return if the tuple is empty.",
   "id": "98243cb457953be1"
  },
  {
   "metadata": {
    "ExecuteTime": {
     "end_time": "2025-03-02T08:34:18.265997Z",
     "start_time": "2025-03-02T08:34:18.234669Z"
    }
   },
   "cell_type": "code",
   "source": [
    "if len(t) > 0:\n",
    "    print(\"Last element is \", t[-1])\n",
    "else:\n",
    "    print(\"Tuple is empty\")"
   ],
   "id": "807a4bf4a764fad",
   "outputs": [
    {
     "name": "stdout",
     "output_type": "stream",
     "text": [
      "Last element is  1\n"
     ]
    }
   ],
   "execution_count": 10
  },
  {
   "metadata": {},
   "cell_type": "markdown",
   "source": "#### 7. Tuple Length: Determine the number of elements in the tuple.",
   "id": "d51105f9a50f9585"
  },
  {
   "metadata": {
    "ExecuteTime": {
     "end_time": "2025-03-02T08:35:51.335907Z",
     "start_time": "2025-03-02T08:35:51.317835Z"
    }
   },
   "cell_type": "code",
   "source": "len(t)",
   "id": "11ec670206aee725",
   "outputs": [
    {
     "data": {
      "text/plain": [
       "13"
      ]
     },
     "execution_count": 11,
     "metadata": {},
     "output_type": "execute_result"
    }
   ],
   "execution_count": 11
  },
  {
   "metadata": {},
   "cell_type": "markdown",
   "source": "#### 8. Slice Tuple: Create a new tuple that contains only the first three elements of the original tuple.",
   "id": "f6307c0fa3e5bda"
  },
  {
   "metadata": {
    "ExecuteTime": {
     "end_time": "2025-03-02T08:38:13.520340Z",
     "start_time": "2025-03-02T08:38:13.475782Z"
    }
   },
   "cell_type": "code",
   "source": [
    "if len(t) >= 3:\n",
    "    print(t[:3])"
   ],
   "id": "c3493416ec1ce8b6",
   "outputs": [
    {
     "name": "stdout",
     "output_type": "stream",
     "text": [
      "(2, 3, 1)\n"
     ]
    }
   ],
   "execution_count": 12
  },
  {
   "metadata": {},
   "cell_type": "markdown",
   "source": "#### 9. Concatenate Tuples: Given two tuples, create a new tuple that combines both.",
   "id": "44b140bbe0cb6f8f"
  },
  {
   "metadata": {
    "ExecuteTime": {
     "end_time": "2025-03-02T08:39:58.181004Z",
     "start_time": "2025-03-02T08:39:58.141352Z"
    }
   },
   "cell_type": "code",
   "source": [
    "tuple1 = [1, 3, 5]\n",
    "tuple2 = [2, 4, 6]\n",
    "tuple1.extend(tuple2)\n",
    "print(tuple1)"
   ],
   "id": "8142312d73a66d10",
   "outputs": [
    {
     "name": "stdout",
     "output_type": "stream",
     "text": [
      "[1, 3, 5, 2, 4, 6]\n"
     ]
    }
   ],
   "execution_count": 13
  },
  {
   "metadata": {},
   "cell_type": "markdown",
   "source": "#### 10. Check if Tuple is Empty: Determine if a tuple has any elements.",
   "id": "dae68be7469c4fa"
  },
  {
   "metadata": {
    "ExecuteTime": {
     "end_time": "2025-03-02T08:41:45.288660Z",
     "start_time": "2025-03-02T08:41:45.271551Z"
    }
   },
   "cell_type": "code",
   "source": "print(len(t) == 0) #return true if empty",
   "id": "e0df41f80418abc3",
   "outputs": [
    {
     "name": "stdout",
     "output_type": "stream",
     "text": [
      "False\n"
     ]
    }
   ],
   "execution_count": 14
  },
  {
   "metadata": {},
   "cell_type": "markdown",
   "source": "#### 11. Get All Indices of Element: Given a tuple and an element, find all the indices of that element in the tuple.",
   "id": "ea0c3d4a5468840b"
  },
  {
   "metadata": {
    "ExecuteTime": {
     "end_time": "2025-03-02T08:44:53.556744Z",
     "start_time": "2025-03-02T08:44:53.478759Z"
    }
   },
   "cell_type": "code",
   "source": [
    "\n",
    "for i in range(len(t)):\n",
    "    if t[i] == elem:\n",
    "        print(i)"
   ],
   "id": "99d4c5d403ded60e",
   "outputs": [
    {
     "name": "stdout",
     "output_type": "stream",
     "text": [
      "1\n",
      "5\n",
      "9\n"
     ]
    }
   ],
   "execution_count": 18
  },
  {
   "metadata": {},
   "cell_type": "markdown",
   "source": "#### 12. Find Second Largest: From a given tuple, find the second largest element.",
   "id": "217b7094309b4814"
  },
  {
   "metadata": {
    "ExecuteTime": {
     "end_time": "2025-03-02T08:47:36.244822Z",
     "start_time": "2025-03-02T08:47:36.194518Z"
    }
   },
   "cell_type": "code",
   "source": [
    "if len(t) < 2:\n",
    "    print(\"The List has less than 2 elements\")\n",
    "else:\n",
    "    big = max(t[0], t[1])\n",
    "    second = min(t[0], t[1])\n",
    "    for i in range(2, len(t)):\n",
    "        if t[i] > big:\n",
    "            second = big\n",
    "            big = t[i]\n",
    "        elif t[i] > second and t[i] != big:\n",
    "            second = t[i]\n",
    "    print(f\"{second=}\")"
   ],
   "id": "15518f911ee681de",
   "outputs": [
    {
     "name": "stdout",
     "output_type": "stream",
     "text": [
      "second=6\n"
     ]
    }
   ],
   "execution_count": 19
  },
  {
   "metadata": {},
   "cell_type": "markdown",
   "source": "#### 13. Find Second Smallest: From a given tuple, find the second smallest element.",
   "id": "7962241fe5269b55"
  },
  {
   "metadata": {
    "ExecuteTime": {
     "end_time": "2025-03-02T08:49:30.088748Z",
     "start_time": "2025-03-02T08:49:30.041852Z"
    }
   },
   "cell_type": "code",
   "source": [
    "if len(t) < 2:\n",
    "    print(\"The List has less than 2 elements\")\n",
    "else:\n",
    "    low = min(t[0], t[1])\n",
    "    second = max(t[0], t[1])\n",
    "    for i in range(2, len(t)):\n",
    "        if t[i] < low:\n",
    "            second = low\n",
    "            low = t[i]\n",
    "        elif t[i] < second and t[i] != low:\n",
    "            second = t[i]\n",
    "    print(f\"{second=}\")"
   ],
   "id": "8ff73befad920ab3",
   "outputs": [
    {
     "name": "stdout",
     "output_type": "stream",
     "text": [
      "second=2\n"
     ]
    }
   ],
   "execution_count": 20
  },
  {
   "metadata": {},
   "cell_type": "markdown",
   "source": "#### 14. Create a Single Element Tuple: Create a tuple that contains a single specified element.",
   "id": "e9e8a6c3dcd4f2eb"
  },
  {
   "metadata": {
    "ExecuteTime": {
     "end_time": "2025-03-02T08:54:12.367463Z",
     "start_time": "2025-03-02T08:54:12.316060Z"
    }
   },
   "cell_type": "code",
   "source": [
    "#use elem\n",
    "single_tuple = (elem,)\n",
    "type(single_tuple)"
   ],
   "id": "7495b2683347d87b",
   "outputs": [
    {
     "data": {
      "text/plain": [
       "tuple"
      ]
     },
     "execution_count": 23,
     "metadata": {},
     "output_type": "execute_result"
    }
   ],
   "execution_count": 23
  },
  {
   "metadata": {},
   "cell_type": "markdown",
   "source": "#### 15. Convert List to Tuple: Given a list, create a tuple containing the same elements.",
   "id": "cda92831b8ce0561"
  },
  {
   "metadata": {
    "ExecuteTime": {
     "end_time": "2025-03-02T08:56:02.007567Z",
     "start_time": "2025-03-02T08:56:01.987069Z"
    }
   },
   "cell_type": "code",
   "source": [
    "list1 = [1, 2, 3]\n",
    "list_to_tuple = tuple(list1)\n",
    "type(list_to_tuple)\n",
    "print(list_to_tuple)"
   ],
   "id": "c976a4da8fd37dcd",
   "outputs": [
    {
     "name": "stdout",
     "output_type": "stream",
     "text": [
      "(1, 2, 3)\n"
     ]
    }
   ],
   "execution_count": 25
  },
  {
   "metadata": {},
   "cell_type": "markdown",
   "source": "#### 16. Check if Tuple is Sorted: Determine if the tuple is sorted in ascending order and return a boolean.",
   "id": "9e2f2727c5b09d2f"
  },
  {
   "metadata": {
    "ExecuteTime": {
     "end_time": "2025-03-02T08:58:22.112343Z",
     "start_time": "2025-03-02T08:58:22.066969Z"
    }
   },
   "cell_type": "code",
   "source": [
    "def is_sorted(l):\n",
    "    s = True\n",
    "    for inx in range(1, len(l)):\n",
    "        if l[inx] < l[inx - 1]:\n",
    "            s = False\n",
    "            break\n",
    "    if s:\n",
    "        print(\"Sorted\")\n",
    "    else:\n",
    "        print(\"Not sorted\")\n",
    "\n",
    "is_sorted(t) #not sorted\n",
    "is_sorted(list_to_tuple) #sorted"
   ],
   "id": "383e10b6b38369ea",
   "outputs": [
    {
     "name": "stdout",
     "output_type": "stream",
     "text": [
      "Not sorted\n",
      "Sorted\n"
     ]
    }
   ],
   "execution_count": 26
  },
  {
   "metadata": {},
   "cell_type": "markdown",
   "source": "#### 17. Find Maximum of Sub-tuple: Given a tuple, find the maximum element of a specified sub-tuple.",
   "id": "aa7833a244715680"
  },
  {
   "metadata": {
    "ExecuteTime": {
     "end_time": "2025-03-02T08:59:50.221481Z",
     "start_time": "2025-03-02T08:59:50.178880Z"
    }
   },
   "cell_type": "code",
   "source": [
    "def max_of_sublist(lst, start, end):\n",
    "    if start < 0 or end > len(lst) or start >= end:\n",
    "        return \"Invalid range\"\n",
    "    return max(lst[start:end])\n",
    "\n",
    "print(max_of_sublist(t, 1, 5))"
   ],
   "id": "dbbdb9df34353370",
   "outputs": [
    {
     "name": "stdout",
     "output_type": "stream",
     "text": [
      "5\n"
     ]
    }
   ],
   "execution_count": 27
  },
  {
   "metadata": {},
   "cell_type": "markdown",
   "source": "#### 18. Find Minimum of Sub-tuple: Given a tuple, find the minimum element of a specified sub-tuple.",
   "id": "c54389de8efaea80"
  },
  {
   "metadata": {
    "ExecuteTime": {
     "end_time": "2025-03-02T09:01:50.934283Z",
     "start_time": "2025-03-02T09:01:50.898883Z"
    }
   },
   "cell_type": "code",
   "source": [
    "def min_of_sublist(lst, start, end):\n",
    "    if start < 0 or end > len(lst) or start >= end:\n",
    "        return \"Invalid range\"\n",
    "    return min(lst[start:end])\n",
    "\n",
    "print(min_of_sublist(t, 1, 5))"
   ],
   "id": "628a69432fb65abb",
   "outputs": [
    {
     "name": "stdout",
     "output_type": "stream",
     "text": [
      "1\n"
     ]
    }
   ],
   "execution_count": 28
  },
  {
   "metadata": {},
   "cell_type": "markdown",
   "source": "#### 19. Remove Element by Value: Given a tuple and an element, create a new tuple that removes the first occurrence of that element.",
   "id": "2e5ec01169eebda1"
  },
  {
   "metadata": {
    "ExecuteTime": {
     "end_time": "2025-03-02T09:12:16.314217Z",
     "start_time": "2025-03-02T09:12:16.271982Z"
    }
   },
   "cell_type": "code",
   "source": [
    "def spec(t1, el):\n",
    "    t2 = []\n",
    "    rem = False\n",
    "    for j in t1:\n",
    "        if j == el and not rem :\n",
    "            rem = True\n",
    "            continue\n",
    "        else:\n",
    "            t2.append(j)\n",
    "    return tuple(t2)\n",
    "print(\"Old tuple: \", t)\n",
    "new_tuple = spec(t, elem)\n",
    "print(f\"without first {elem} : {new_tuple}\")"
   ],
   "id": "b38f20ebdc343a27",
   "outputs": [
    {
     "name": "stdout",
     "output_type": "stream",
     "text": [
      "Old tuple:  (2, 3, 1, 4, 5, 3, 7, 5, 6, 3, 2, 4, 1)\n",
      "without first 3 : (2, 1, 4, 5, 3, 7, 5, 6, 3, 2, 4, 1)\n"
     ]
    }
   ],
   "execution_count": 29
  },
  {
   "metadata": {},
   "cell_type": "markdown",
   "source": "#### 20. Create Nested Tuple: Create a new tuple that contains subtuples, where each sub-tuple contains specified elements from the original tuple.",
   "id": "1a8e937a3e3a27f1"
  },
  {
   "metadata": {
    "ExecuteTime": {
     "end_time": "2025-03-02T12:51:58.969207Z",
     "start_time": "2025-03-02T12:51:58.958870Z"
    }
   },
   "cell_type": "code",
   "source": [
    "def pow_set(lis1, *args):\n",
    "    last = 0\n",
    "    p_set = []\n",
    "    if len(args) > 0 and sum(args) == len(lis1):\n",
    "        for q in range(len(args)):\n",
    "            p_set.append(list(lis1[last:last+args[q]]))\n",
    "            last += args[q]\n",
    "    return tuple(p_set)\n",
    "\n",
    "print(t)\n",
    "print(pow_set(t, 2, 3, 4, 4))"
   ],
   "id": "201b10719e51a93b",
   "outputs": [
    {
     "name": "stdout",
     "output_type": "stream",
     "text": [
      "(2, 3, 1, 4, 5, 3, 7, 5, 6, 3, 2, 4, 1)\n",
      "([2, 3], [1, 4, 5], [3, 7, 5, 6], [3, 2, 4, 1])\n"
     ]
    }
   ],
   "execution_count": 33
  },
  {
   "metadata": {},
   "cell_type": "markdown",
   "source": "#### 21. Repeat Elements: Given a tuple and a number, create a new tuple where each element is repeated that number of times.",
   "id": "bd94da9c60adb9a9"
  },
  {
   "metadata": {
    "ExecuteTime": {
     "end_time": "2025-03-03T01:45:19.742506Z",
     "start_time": "2025-03-03T01:45:19.647954Z"
    }
   },
   "cell_type": "code",
   "source": [
    "def spec(tuple3, n):\n",
    "    return tuple3*n\n",
    "print(spec((2,3,7), 3))"
   ],
   "id": "1f350717ddec5a92",
   "outputs": [
    {
     "name": "stdout",
     "output_type": "stream",
     "text": [
      "(2, 3, 7, 2, 3, 7, 2, 3, 7)\n"
     ]
    }
   ],
   "execution_count": 34
  },
  {
   "metadata": {},
   "cell_type": "markdown",
   "source": "#### 22. Create Range Tuple: Create a tuple of numbers in a specified range (e.g., from 1 to 10).",
   "id": "a65f3b999c8f086a"
  },
  {
   "metadata": {
    "ExecuteTime": {
     "end_time": "2025-03-03T01:47:36.647120Z",
     "start_time": "2025-03-03T01:47:36.627003Z"
    }
   },
   "cell_type": "code",
   "source": [
    "import random\n",
    "list2 = []\n",
    "for i in range(10):\n",
    "    list2.append(random.randint(1, 10))\n",
    "rand_tuple = tuple(list2)\n",
    "print(rand_tuple)"
   ],
   "id": "526c54ccb57af59c",
   "outputs": [
    {
     "name": "stdout",
     "output_type": "stream",
     "text": [
      "(5, 10, 1, 1, 8, 6, 5, 1, 9, 3)\n"
     ]
    }
   ],
   "execution_count": 35
  },
  {
   "metadata": {},
   "cell_type": "markdown",
   "source": "#### 23. Reverse Tuple: Create a new tuple that contains the elements of the original tuple in reverse order.",
   "id": "1a5a2958c2455675"
  },
  {
   "metadata": {
    "ExecuteTime": {
     "end_time": "2025-03-03T01:49:12.059266Z",
     "start_time": "2025-03-03T01:49:12.047022Z"
    }
   },
   "cell_type": "code",
   "source": [
    "print(rand_tuple)\n",
    "reverse_tuple = tuple(rand_tuple[::-1])\n",
    "print(reverse_tuple)"
   ],
   "id": "6df850b2734490a3",
   "outputs": [
    {
     "name": "stdout",
     "output_type": "stream",
     "text": [
      "(5, 10, 1, 1, 8, 6, 5, 1, 9, 3)\n",
      "(3, 9, 1, 5, 6, 8, 1, 1, 10, 5)\n"
     ]
    }
   ],
   "execution_count": 37
  },
  {
   "metadata": {},
   "cell_type": "markdown",
   "source": "#### 24. Check Palindrome: Given a tuple, check if the tuple is a palindrome (reads the same forwards and backwards).",
   "id": "edf390e036dca031"
  },
  {
   "metadata": {
    "ExecuteTime": {
     "end_time": "2025-03-03T01:51:39.914966Z",
     "start_time": "2025-03-03T01:51:39.873326Z"
    }
   },
   "cell_type": "code",
   "source": [
    "def palin(cc):\n",
    "    ln = len(cc)\n",
    "    for y in range(ln):\n",
    "        if cc[y] != cc[ln - y - 1]:\n",
    "            return False # if not palindrome\n",
    "    return True #if palindrome\n",
    "palin(t)"
   ],
   "id": "9a06a5d7328f9f2f",
   "outputs": [
    {
     "data": {
      "text/plain": [
       "False"
      ]
     },
     "execution_count": 38,
     "metadata": {},
     "output_type": "execute_result"
    }
   ],
   "execution_count": 38
  },
  {
   "metadata": {},
   "cell_type": "markdown",
   "source": "#### 25. Get Unique Elements: Given a tuple, create a new tuple that contains only the unique elements while maintaining the original order.",
   "id": "3737be225fcc1806"
  },
  {
   "metadata": {
    "ExecuteTime": {
     "end_time": "2025-03-03T01:53:15.567387Z",
     "start_time": "2025-03-03T01:53:15.553779Z"
    }
   },
   "cell_type": "code",
   "source": [
    "def unique(bb):\n",
    "    uni_list = []\n",
    "    for z in bb:\n",
    "        if z not in uni_list:\n",
    "            uni_list.append(z)\n",
    "    return tuple(uni_list)\n",
    "print(unique(rand_tuple))"
   ],
   "id": "a0027f8aa2494315",
   "outputs": [
    {
     "name": "stdout",
     "output_type": "stream",
     "text": [
      "(5, 10, 1, 8, 6, 9, 3)\n"
     ]
    }
   ],
   "execution_count": 39
  }
 ],
 "metadata": {
  "kernelspec": {
   "display_name": "Python 3",
   "language": "python",
   "name": "python3"
  },
  "language_info": {
   "codemirror_mode": {
    "name": "ipython",
    "version": 2
   },
   "file_extension": ".py",
   "mimetype": "text/x-python",
   "name": "python",
   "nbconvert_exporter": "python",
   "pygments_lexer": "ipython2",
   "version": "2.7.6"
  }
 },
 "nbformat": 4,
 "nbformat_minor": 5
}
