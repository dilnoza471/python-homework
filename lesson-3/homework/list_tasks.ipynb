{
 "cells": [
  {
   "metadata": {},
   "cell_type": "markdown",
   "source": [
    "# List tasks\n",
    "#### 1. Count Occurrences: Given a list and an element, find how many times the element appears in the list.\n",
    "\n"
   ],
   "id": "63987e99720dd88"
  },
  {
   "metadata": {
    "ExecuteTime": {
     "end_time": "2025-03-01T01:10:50.559959Z",
     "start_time": "2025-03-01T01:10:50.541337Z"
    }
   },
   "cell_type": "code",
   "source": [
    "from operator import contains\n",
    "\n",
    "arr = [2,3,4,2,3,4,2,2,23,43,3]\n",
    "print(arr.count(4))"
   ],
   "id": "a3080fc73d45a6bb",
   "outputs": [
    {
     "name": "stdout",
     "output_type": "stream",
     "text": [
      "2\n"
     ]
    }
   ],
   "execution_count": 3
  },
  {
   "metadata": {},
   "cell_type": "markdown",
   "source": "#### 2. Sum of Elements: Given a list of numbers, calculate the total of all the elements.\n",
   "id": "15b069323cf14bc7"
  },
  {
   "metadata": {
    "ExecuteTime": {
     "end_time": "2025-03-01T01:11:55.801186Z",
     "start_time": "2025-03-01T01:11:55.788469Z"
    }
   },
   "cell_type": "code",
   "source": [
    "total = sum(arr)\n",
    "print(total)"
   ],
   "id": "9e503f71d0e03c71",
   "outputs": [
    {
     "name": "stdout",
     "output_type": "stream",
     "text": [
      "91\n"
     ]
    }
   ],
   "execution_count": 4
  },
  {
   "metadata": {},
   "cell_type": "markdown",
   "source": "#### 3. Max Element: From a given list, determine the largest element.",
   "id": "49f8b3b0856bcb61"
  },
  {
   "metadata": {
    "ExecuteTime": {
     "end_time": "2025-03-01T01:12:37.683055Z",
     "start_time": "2025-03-01T01:12:37.613888Z"
    }
   },
   "cell_type": "code",
   "source": "max(arr)",
   "id": "55c29662eab86dd2",
   "outputs": [
    {
     "data": {
      "text/plain": [
       "43"
      ]
     },
     "execution_count": 5,
     "metadata": {},
     "output_type": "execute_result"
    }
   ],
   "execution_count": 5
  },
  {
   "metadata": {},
   "cell_type": "markdown",
   "source": "#### 4. Min Element: From a given list, determine the smallest element.",
   "id": "e2ee977ec718b444"
  },
  {
   "metadata": {
    "ExecuteTime": {
     "end_time": "2025-03-01T01:13:15.894748Z",
     "start_time": "2025-03-01T01:13:15.866280Z"
    }
   },
   "cell_type": "code",
   "source": "min(arr)",
   "id": "d7a10b054204a6",
   "outputs": [
    {
     "data": {
      "text/plain": [
       "2"
      ]
     },
     "execution_count": 6,
     "metadata": {},
     "output_type": "execute_result"
    }
   ],
   "execution_count": 6
  },
  {
   "metadata": {},
   "cell_type": "markdown",
   "source": "#### 5. Check Element: Given a list and an element, check if the element is present in the list",
   "id": "828410026d74332e"
  },
  {
   "metadata": {
    "ExecuteTime": {
     "end_time": "2025-03-01T01:16:01.401423Z",
     "start_time": "2025-03-01T01:16:01.395051Z"
    }
   },
   "cell_type": "code",
   "source": [
    "print(2 in arr)\n",
    "print(34 in arr)"
   ],
   "id": "29620c64e393de1c",
   "outputs": [
    {
     "name": "stdout",
     "output_type": "stream",
     "text": [
      "True\n",
      "False\n"
     ]
    }
   ],
   "execution_count": 10
  },
  {
   "metadata": {},
   "cell_type": "markdown",
   "source": "#### 6. First Element: Access the first element of a list, considering what to return if the list is empty.",
   "id": "d66973c93163522c"
  },
  {
   "metadata": {
    "ExecuteTime": {
     "end_time": "2025-03-01T01:17:30.096709Z",
     "start_time": "2025-03-01T01:17:30.089141Z"
    }
   },
   "cell_type": "code",
   "source": [
    "if len(arr)>=1:\n",
    "    print(f\"first element is {arr[0]}\")\n",
    "else:\n",
    "    print(\"arr is empty\")\n"
   ],
   "id": "3e2f789878f469e0",
   "outputs": [
    {
     "name": "stdout",
     "output_type": "stream",
     "text": [
      "2\n"
     ]
    }
   ],
   "execution_count": 11
  },
  {
   "metadata": {},
   "cell_type": "markdown",
   "source": "#### 7. Last Element: Access the last element of a list, considering what to return if the list is empty.",
   "id": "21443a4f5f2935dc"
  },
  {
   "metadata": {},
   "cell_type": "code",
   "outputs": [],
   "execution_count": null,
   "source": [
    "if len(arr)>=1:\n",
    "    print(f\"last element is {arr[-1]}\")\n",
    "else:\n",
    "    print(\"arr is empty\")"
   ],
   "id": "f7320fa818980336"
  },
  {
   "metadata": {},
   "cell_type": "markdown",
   "source": "#### 8. Slice List: Create a new list that contains only the first three elements of the original list.",
   "id": "aa0f5f7c242c9d93"
  },
  {
   "metadata": {
    "ExecuteTime": {
     "end_time": "2025-03-01T01:21:10.204618Z",
     "start_time": "2025-03-01T01:21:10.186245Z"
    }
   },
   "cell_type": "code",
   "source": [
    "new_list = arr[:3]\n",
    "print(new_list)"
   ],
   "id": "27b89582b4c4cb23",
   "outputs": [
    {
     "name": "stdout",
     "output_type": "stream",
     "text": [
      "[2, 3, 4]\n"
     ]
    }
   ],
   "execution_count": 12
  },
  {
   "metadata": {},
   "cell_type": "markdown",
   "source": "#### 9. Reverse List: Create a new list that contains the elements of the original list in reverse order.",
   "id": "c4d8f5e41d569e2b"
  },
  {
   "metadata": {
    "ExecuteTime": {
     "end_time": "2025-03-01T01:22:52.628618Z",
     "start_time": "2025-03-01T01:22:52.620582Z"
    }
   },
   "cell_type": "code",
   "source": [
    "reversed_list = arr[::-1]\n",
    "print(reversed_list)"
   ],
   "id": "635728bc0a2dfe32",
   "outputs": [
    {
     "name": "stdout",
     "output_type": "stream",
     "text": [
      "[3, 43, 23, 2, 2, 4, 3, 2, 4, 3, 2]\n"
     ]
    }
   ],
   "execution_count": 14
  },
  {
   "metadata": {},
   "cell_type": "markdown",
   "source": "#### 10. Sort List: Create a new list that contains the elements of the original list in sorted order.",
   "id": "49b8cbe4813d9a80"
  },
  {
   "metadata": {
    "ExecuteTime": {
     "end_time": "2025-03-01T01:23:37.358160Z",
     "start_time": "2025-03-01T01:23:37.344948Z"
    }
   },
   "cell_type": "code",
   "source": [
    "sorted_list = sorted(arr)\n",
    "print(sorted_list)"
   ],
   "id": "830f06ad89dc9f43",
   "outputs": [
    {
     "name": "stdout",
     "output_type": "stream",
     "text": [
      "[2, 2, 2, 2, 3, 3, 3, 4, 4, 23, 43]\n"
     ]
    }
   ],
   "execution_count": 15
  },
  {
   "metadata": {},
   "cell_type": "markdown",
   "source": "#### 11. Remove Duplicates: Given a list, create a new list that contains only unique elements from the original list.",
   "id": "546b01e2dbd034a2"
  },
  {
   "metadata": {
    "ExecuteTime": {
     "end_time": "2025-03-01T01:24:28.198755Z",
     "start_time": "2025-03-01T01:24:28.190404Z"
    }
   },
   "cell_type": "code",
   "source": [
    "unique_list = list(set(arr))\n",
    "print(unique_list)"
   ],
   "id": "efd83b588013f61e",
   "outputs": [
    {
     "name": "stdout",
     "output_type": "stream",
     "text": [
      "[2, 3, 4, 43, 23]\n"
     ]
    }
   ],
   "execution_count": 16
  },
  {
   "metadata": {},
   "cell_type": "markdown",
   "source": "#### 12. Insert Element: Given a list and an element, insert the element at a specified index.",
   "id": "6fadfc45c8dbf58"
  },
  {
   "metadata": {
    "ExecuteTime": {
     "end_time": "2025-03-01T01:25:36.203635Z",
     "start_time": "2025-03-01T01:25:36.194269Z"
    }
   },
   "cell_type": "code",
   "source": [
    "arr.insert(2, 7)\n",
    "print(arr)"
   ],
   "id": "6345e5df34109617",
   "outputs": [
    {
     "name": "stdout",
     "output_type": "stream",
     "text": [
      "[2, 3, 7, 4, 2, 3, 4, 2, 2, 2, 23, 43, 3]\n"
     ]
    }
   ],
   "execution_count": 18
  },
  {
   "metadata": {},
   "cell_type": "markdown",
   "source": "#### 13. Index of Element: Given a list and an element, find the index of the first occurrence of the element.",
   "id": "364377af116e905e"
  },
  {
   "metadata": {
    "ExecuteTime": {
     "end_time": "2025-03-01T01:26:46.030986Z",
     "start_time": "2025-03-01T01:26:46.022596Z"
    }
   },
   "cell_type": "code",
   "source": [
    "print(arr.index(7))\n",
    "print(arr.index(2))"
   ],
   "id": "9d61c731a9b261b3",
   "outputs": [
    {
     "name": "stdout",
     "output_type": "stream",
     "text": [
      "2\n",
      "0\n"
     ]
    }
   ],
   "execution_count": 20
  },
  {
   "metadata": {},
   "cell_type": "markdown",
   "source": "#### 14. Check for Empty List: Determine if a list is empty and return a boolean.",
   "id": "b43d668e0e3aa1c1"
  },
  {
   "metadata": {
    "ExecuteTime": {
     "end_time": "2025-03-01T01:28:47.523365Z",
     "start_time": "2025-03-01T01:28:47.511134Z"
    }
   },
   "cell_type": "code",
   "source": [
    "empty = []\n",
    "print(bool(empty))\n",
    "print(bool(arr))"
   ],
   "id": "8a676117425c48fd",
   "outputs": [
    {
     "name": "stdout",
     "output_type": "stream",
     "text": [
      "False\n",
      "True\n"
     ]
    }
   ],
   "execution_count": 22
  },
  {
   "metadata": {},
   "cell_type": "markdown",
   "source": "#### 15. Count Even Numbers: Given a list of integers, count how many of them are even.",
   "id": "a545297140654e99"
  },
  {
   "metadata": {
    "ExecuteTime": {
     "end_time": "2025-03-01T01:52:05.290596Z",
     "start_time": "2025-03-01T01:52:05.266524Z"
    }
   },
   "cell_type": "code",
   "source": [
    "c = len([x for x in arr if x % 2 == 0])\n",
    "print(c)"
   ],
   "id": "93a5da5882fe30b4",
   "outputs": [
    {
     "name": "stdout",
     "output_type": "stream",
     "text": [
      "7\n"
     ]
    }
   ],
   "execution_count": 25
  },
  {
   "metadata": {},
   "cell_type": "markdown",
   "source": "#### 16. Count Odd Numbers: Given a list of integers, count how many of them are odd.",
   "id": "c35ae4834386aafd"
  },
  {
   "metadata": {
    "ExecuteTime": {
     "end_time": "2025-03-01T01:53:19.454944Z",
     "start_time": "2025-03-01T01:53:19.436543Z"
    }
   },
   "cell_type": "code",
   "source": [
    "c = len([x for x in arr if x % 2 == 1])\n",
    "print(c)"
   ],
   "id": "a4f2b8fad4bb04ee",
   "outputs": [
    {
     "name": "stdout",
     "output_type": "stream",
     "text": [
      "6\n"
     ]
    }
   ],
   "execution_count": 26
  },
  {
   "metadata": {},
   "cell_type": "markdown",
   "source": "#### 17. Concatenate Lists: Given two lists, create a new list that combines both lists.",
   "id": "e22e946399432f10"
  },
  {
   "metadata": {
    "ExecuteTime": {
     "end_time": "2025-03-01T01:56:46.258249Z",
     "start_time": "2025-03-01T01:56:46.230581Z"
    }
   },
   "cell_type": "code",
   "source": [
    "l1 = [1, 2, 3, 5, 7]\n",
    "l2 = [2, 4, 6, 8]\n",
    "l1.extend(l2)\n"
   ],
   "id": "14daec646c3f5e74",
   "outputs": [
    {
     "name": "stdout",
     "output_type": "stream",
     "text": [
      "[1, 2, 3, 5, 7, 2, 4, 6, 8]\n"
     ]
    }
   ],
   "execution_count": 28
  },
  {
   "metadata": {},
   "cell_type": "markdown",
   "source": "#### 18. Find Sublist: Given a list and a sublist, check if the sublist exists within the list.",
   "id": "ab859ec9e469a621"
  },
  {
   "metadata": {
    "ExecuteTime": {
     "end_time": "2025-03-01T02:26:43.289281Z",
     "start_time": "2025-03-01T02:26:43.260440Z"
    }
   },
   "cell_type": "code",
   "source": [
    "sub = [2, 4]\n",
    "sublist = True\n",
    "for i in sub:\n",
    "    if i not in l1:\n",
    "        sublist = False\n",
    "        break\n",
    "if sublist:\n",
    "    print(\"sublist\")\n",
    "else:\n",
    "    print(\"not sublist\")"
   ],
   "id": "e3ab9b04fc81cde3",
   "outputs": [
    {
     "name": "stdout",
     "output_type": "stream",
     "text": [
      "sublist\n"
     ]
    }
   ],
   "execution_count": 35
  },
  {
   "metadata": {},
   "cell_type": "markdown",
   "source": "#### 19. Replace Element: Given a list, replace the first occurrence of a specified element with another element.",
   "id": "5fbd771481e783df"
  },
  {
   "metadata": {
    "ExecuteTime": {
     "end_time": "2025-03-01T02:31:28.116468Z",
     "start_time": "2025-03-01T02:31:28.094600Z"
    }
   },
   "cell_type": "code",
   "source": [
    "#scecified elem = 2 to be replaced 32\n",
    "ix = arr.index(2)\n",
    "print(\"before: \", arr)\n",
    "arr[ix] = 32\n",
    "print(\"after : \", arr)"
   ],
   "id": "a2320cc976c3013a",
   "outputs": [
    {
     "name": "stdout",
     "output_type": "stream",
     "text": [
      "before:  [2, 3, 7, 4, 2, 3, 4, 2, 2, 2, 23, 43, 3]\n",
      "after :  [32, 3, 7, 4, 2, 3, 4, 2, 2, 2, 23, 43, 3]\n"
     ]
    }
   ],
   "execution_count": 39
  },
  {
   "metadata": {},
   "cell_type": "markdown",
   "source": "#### 20. Find Second Largest: From a given list, find the second largest element.",
   "id": "8086f0f2e996e903"
  },
  {
   "metadata": {
    "ExecuteTime": {
     "end_time": "2025-03-01T15:11:34.649781Z",
     "start_time": "2025-03-01T15:11:34.564449Z"
    }
   },
   "cell_type": "code",
   "source": [
    "#use arr\n",
    "if len(arr) < 2:\n",
    "    print(\"The List has less than 2 elements\")\n",
    "else:\n",
    "    big = max(arr[0], arr[1])\n",
    "    second = min(arr[0], arr[1])\n",
    "    for i in range(2, len(arr)):\n",
    "        if arr[i] > big:\n",
    "            second = big\n",
    "            big = arr[i]\n",
    "        elif arr[i] > second and arr[i] != big:\n",
    "            second = arr[i]\n",
    "    print(f\"{second=}\")"
   ],
   "id": "95bce83c8b7f5e0e",
   "outputs": [
    {
     "name": "stdout",
     "output_type": "stream",
     "text": [
      "second=32\n"
     ]
    }
   ],
   "execution_count": 41
  },
  {
   "metadata": {},
   "cell_type": "markdown",
   "source": "#### 21. Find Second Smallest: From a given list, find the second-smallest element.",
   "id": "2bd89e36edb0fa34"
  },
  {
   "metadata": {
    "ExecuteTime": {
     "end_time": "2025-03-01T15:23:48.422908Z",
     "start_time": "2025-03-01T15:23:48.381273Z"
    }
   },
   "cell_type": "code",
   "source": [
    "if len(arr) < 2:\n",
    "    print(\"The List has less than 2 elements\")\n",
    "else:\n",
    "    low = min(arr[0], arr[1])\n",
    "    second = max(arr[0], arr[1])\n",
    "    for i in range(2, len(arr)):\n",
    "        if arr[i] < low:\n",
    "            second = low\n",
    "            low = arr[i]\n",
    "        elif arr[i] < second and arr[i] != low:\n",
    "            second = arr[i]\n",
    "    print(f\"{second=}\")"
   ],
   "id": "22e54e334c31bd62",
   "outputs": [
    {
     "name": "stdout",
     "output_type": "stream",
     "text": [
      "second=3\n"
     ]
    }
   ],
   "execution_count": 42
  },
  {
   "metadata": {},
   "cell_type": "markdown",
   "source": "#### 22. Filter Even Numbers: Given a list of integers, create a new list that contains only the even numbers.",
   "id": "577c3260fe45abdd"
  },
  {
   "metadata": {
    "ExecuteTime": {
     "end_time": "2025-03-01T15:25:17.127073Z",
     "start_time": "2025-03-01T15:25:17.108215Z"
    }
   },
   "cell_type": "code",
   "source": [
    "even = [x for x in arr if x % 2 == 0]\n",
    "print(even)"
   ],
   "id": "9df4ae71cbb0e04",
   "outputs": [
    {
     "name": "stdout",
     "output_type": "stream",
     "text": [
      "[32, 4, 2, 4, 2, 2, 2]\n"
     ]
    }
   ],
   "execution_count": 44
  },
  {
   "metadata": {},
   "cell_type": "markdown",
   "source": "#### 23. Filter Odd Numbers: Given a list of integers, create a new list that contains only the odd numbers.",
   "id": "760162c3f1003c6d"
  },
  {
   "metadata": {
    "ExecuteTime": {
     "end_time": "2025-03-01T15:26:00.784648Z",
     "start_time": "2025-03-01T15:26:00.774146Z"
    }
   },
   "cell_type": "code",
   "source": [
    "odd = [x for x in arr if x % 2 == 1]\n",
    "print(odd)"
   ],
   "id": "143f8e24f55b8bfe",
   "outputs": [
    {
     "name": "stdout",
     "output_type": "stream",
     "text": [
      "[3, 7, 3, 23, 43, 3]\n"
     ]
    }
   ],
   "execution_count": 45
  },
  {
   "metadata": {},
   "cell_type": "markdown",
   "source": "#### 24. List Length: Determine the number of elements in the list.",
   "id": "2a79af25b2d714c0"
  },
  {
   "metadata": {
    "ExecuteTime": {
     "end_time": "2025-03-01T15:27:45.923520Z",
     "start_time": "2025-03-01T15:27:45.892594Z"
    }
   },
   "cell_type": "code",
   "source": "len(arr)",
   "id": "ba2439ed9b277e6",
   "outputs": [
    {
     "data": {
      "text/plain": [
       "13"
      ]
     },
     "execution_count": 46,
     "metadata": {},
     "output_type": "execute_result"
    }
   ],
   "execution_count": 46
  },
  {
   "metadata": {},
   "cell_type": "markdown",
   "source": "#### 25. Create a Copy: Create a new list that is a copy of the original list.",
   "id": "1ce5ab96a995732c"
  },
  {
   "metadata": {
    "ExecuteTime": {
     "end_time": "2025-03-01T15:28:27.185599Z",
     "start_time": "2025-03-01T15:28:27.176466Z"
    }
   },
   "cell_type": "code",
   "source": [
    "copy_arr = arr.copy()\n",
    "print(arr)\n",
    "print(copy_arr)"
   ],
   "id": "94d9733787fc9763",
   "outputs": [
    {
     "name": "stdout",
     "output_type": "stream",
     "text": [
      "[32, 3, 7, 4, 2, 3, 4, 2, 2, 2, 23, 43, 3]\n",
      "[32, 3, 7, 4, 2, 3, 4, 2, 2, 2, 23, 43, 3]\n"
     ]
    }
   ],
   "execution_count": 49
  },
  {
   "metadata": {},
   "cell_type": "markdown",
   "source": "#### 26. Get Middle Element: Given a list, find the middle element. If the list has an even number of elements, return the two middle elements.",
   "id": "82d60c1131b0062f"
  },
  {
   "metadata": {
    "ExecuteTime": {
     "end_time": "2025-03-01T15:32:29.002945Z",
     "start_time": "2025-03-01T15:32:28.992715Z"
    }
   },
   "cell_type": "code",
   "source": [
    "if len(arr)%2 == 0:\n",
    "    print(f\"middle elements are {arr[len(arr) // 2-1]}  and {arr[len(arr) // 2]}\")\n",
    "else:\n",
    "    print(f\"middle element is {arr[len(arr) // 2]}\")"
   ],
   "id": "4ff8b360fdd7efe9",
   "outputs": [
    {
     "name": "stdout",
     "output_type": "stream",
     "text": [
      "middle element is 4\n"
     ]
    }
   ],
   "execution_count": 54
  },
  {
   "metadata": {},
   "cell_type": "markdown",
   "source": "#### 27. Find Maximum of Sublist: Given a list, find the maximum element of a specified sublist.",
   "id": "19efbca4a2c320bb"
  },
  {
   "metadata": {
    "ExecuteTime": {
     "end_time": "2025-03-01T15:42:31.695482Z",
     "start_time": "2025-03-01T15:42:31.678945Z"
    }
   },
   "cell_type": "code",
   "source": [
    "def max_of_sublist(lst, start, end):\n",
    "    if start < 0 or end > len(lst) or start >= end:\n",
    "        return \"Invalid range\"\n",
    "    return max(lst[start:end])\n",
    "\n",
    "print(max_of_sublist(arr, 1, 5))\n"
   ],
   "id": "e0914a05275d486f",
   "outputs": [
    {
     "name": "stdout",
     "output_type": "stream",
     "text": [
      "7\n"
     ]
    }
   ],
   "execution_count": 55
  },
  {
   "metadata": {},
   "cell_type": "markdown",
   "source": "#### 28. Find Minimum of Sublist: Given a list, find the minimum element of a specified sublist.",
   "id": "670e43e569fc21aa"
  },
  {
   "metadata": {
    "ExecuteTime": {
     "end_time": "2025-03-01T15:44:38.331568Z",
     "start_time": "2025-03-01T15:44:38.322690Z"
    }
   },
   "cell_type": "code",
   "source": [
    "def min_of_sublist(lst, start, end):\n",
    "    if start < 0 or end > len(lst) or start >= end:\n",
    "        return \"Invalid range\"\n",
    "    return min(lst[start:end])\n",
    "\n",
    "print(min_of_sublist(arr, 1, 5))"
   ],
   "id": "5c57ce6aea0e82e2",
   "outputs": [
    {
     "name": "stdout",
     "output_type": "stream",
     "text": [
      "2\n"
     ]
    }
   ],
   "execution_count": 59
  },
  {
   "metadata": {},
   "cell_type": "markdown",
   "source": "#### 29. Remove Element by Index: Given a list and an index, remove the element at that index if it exists.",
   "id": "ed8b219640f115e8"
  },
  {
   "metadata": {
    "ExecuteTime": {
     "end_time": "2025-03-01T15:45:45.012120Z",
     "start_time": "2025-03-01T15:45:44.997908Z"
    }
   },
   "cell_type": "code",
   "source": "arr.pop(6)",
   "id": "98163fbf20fdda0",
   "outputs": [
    {
     "data": {
      "text/plain": [
       "4"
      ]
     },
     "execution_count": 60,
     "metadata": {},
     "output_type": "execute_result"
    }
   ],
   "execution_count": 60
  },
  {
   "metadata": {},
   "cell_type": "markdown",
   "source": "#### 30. Check if List is Sorted: Determine if the list is sorted in ascending order and return a boolean.",
   "id": "4e62f63ec2be2932"
  },
  {
   "metadata": {
    "ExecuteTime": {
     "end_time": "2025-03-01T15:54:01.360998Z",
     "start_time": "2025-03-01T15:54:01.349046Z"
    }
   },
   "cell_type": "code",
   "source": [
    "def is_sorted(l):\n",
    "    s = True\n",
    "    for inx in range(1, len(l)):\n",
    "        if l[inx] < l[inx - 1]:\n",
    "            s = False\n",
    "            break\n",
    "    if s:\n",
    "        print(\"Sorted\")\n",
    "    else:\n",
    "        print(\"Not sorted\")\n",
    "\n",
    "is_sorted(arr)\n",
    "is_sorted(sorted_list)"
   ],
   "id": "9ddb4388a1ccb57e",
   "outputs": [
    {
     "name": "stdout",
     "output_type": "stream",
     "text": [
      "Not sorted\n",
      "Sorted\n"
     ]
    }
   ],
   "execution_count": 64
  },
  {
   "metadata": {},
   "cell_type": "markdown",
   "source": "#### 31. Repeat Elements: Given a list and a number, create a new list where each element is repeated that number of times.",
   "id": "3f9b35d307dea3bc"
  },
  {
   "metadata": {
    "ExecuteTime": {
     "end_time": "2025-03-01T16:04:42.212737Z",
     "start_time": "2025-03-01T16:04:42.196606Z"
    }
   },
   "cell_type": "code",
   "source": [
    "def spec(list1, n):\n",
    "    return list1*n\n",
    "print(spec([2,3,7], 3))"
   ],
   "id": "d98a4af73129c84f",
   "outputs": [
    {
     "name": "stdout",
     "output_type": "stream",
     "text": [
      "[2, 3, 7, 2, 3, 7, 2, 3, 7]\n"
     ]
    }
   ],
   "execution_count": 66
  },
  {
   "metadata": {},
   "cell_type": "markdown",
   "source": "#### 32. Merge and Sort: Given two lists, create a new sorted list that merges both lists.",
   "id": "1e1a0a74c8d0274a"
  },
  {
   "metadata": {
    "ExecuteTime": {
     "end_time": "2025-03-01T16:23:28.570920Z",
     "start_time": "2025-03-01T16:23:28.532854Z"
    }
   },
   "cell_type": "code",
   "source": [
    "def merge(a1, a2): #assume lists are sorted before merging\n",
    "    union = []\n",
    "    k = 0\n",
    "    j = 0\n",
    "    while k < len(a1) and j < len(a2):\n",
    "        if a1[k] > a2[j]:\n",
    "            union.append(a2[j])\n",
    "            j += 1\n",
    "        else:\n",
    "            union.append(a1[k])\n",
    "            k += 1\n",
    "    while k < len(a1) :\n",
    "        union.append(a1[k])\n",
    "        k += 1\n",
    "    while j < len(a2):\n",
    "        union.append(a2[j])\n",
    "        j += 1\n",
    "    return union\n",
    "arr1 = [2,4,6,8,22,56]\n",
    "arr2 = [3,7,21,45]\n",
    "print(merge(arr1, arr2))"
   ],
   "id": "e2bf55241a1574b9",
   "outputs": [
    {
     "name": "stdout",
     "output_type": "stream",
     "text": [
      "[2, 3, 4, 6, 7, 8, 21, 22, 45, 56]\n"
     ]
    }
   ],
   "execution_count": 68
  },
  {
   "metadata": {},
   "cell_type": "markdown",
   "source": "#### 33. Find All Indices: Given a list and an element, find all the indices of that element in the list.",
   "id": "f3dfac75f9f304fa"
  },
  {
   "metadata": {
    "ExecuteTime": {
     "end_time": "2025-03-01T16:31:35.785003Z",
     "start_time": "2025-03-01T16:31:35.753396Z"
    }
   },
   "cell_type": "code",
   "source": [
    "def all_index(b, num):\n",
    "    for x in range(len(b)):\n",
    "        if arr[x] == num:\n",
    "            print(x)\n",
    "\n",
    "all_index(arr, 2)"
   ],
   "id": "3252dffb4f673eec",
   "outputs": [
    {
     "name": "stdout",
     "output_type": "stream",
     "text": [
      "[32, 3, 7, 4, 2, 3, 2, 2, 2, 23, 43, 3]\n",
      "4  \n",
      "6  \n",
      "7  \n",
      "8  \n"
     ]
    }
   ],
   "execution_count": 71
  },
  {
   "metadata": {},
   "cell_type": "markdown",
   "source": "#### 34. Rotate List: Given a list, create a new list that is a rotated version of the original list (shift elements to the right).",
   "id": "2d864c1131283b1d"
  },
  {
   "metadata": {
    "ExecuteTime": {
     "end_time": "2025-03-01T17:02:16.114147Z",
     "start_time": "2025-03-01T17:02:16.084828Z"
    }
   },
   "cell_type": "code",
   "source": [
    "def rotation(b1, n):\n",
    "    return b1[n:]+b1[:n]\n",
    "print(\"Original arr: \",arr1)\n",
    "print(\"After 2 right rotation\", rotation(arr1, 2))\n"
   ],
   "id": "b9f279d77485183d",
   "outputs": [
    {
     "name": "stdout",
     "output_type": "stream",
     "text": [
      "Original arr:  [2, 4, 6, 8, 22, 56]\n",
      "After 2 right rotation [6, 8, 22, 56, 2, 4]\n"
     ]
    }
   ],
   "execution_count": 78
  },
  {
   "metadata": {},
   "cell_type": "markdown",
   "source": "#### 35. Create Range List: Create a list of numbers in a specified range (e.g., from 1 to 10).",
   "id": "647464ed953be274"
  },
  {
   "metadata": {
    "ExecuteTime": {
     "end_time": "2025-03-01T17:05:05.480070Z",
     "start_time": "2025-03-01T17:05:05.378547Z"
    }
   },
   "cell_type": "code",
   "source": [
    "import random\n",
    "random_numbers = []\n",
    "for i in range(10):\n",
    "    random_numbers.append(random.randint(1, 10))\n",
    "print(random_numbers)"
   ],
   "id": "2a660c532402091a",
   "outputs": [
    {
     "name": "stdout",
     "output_type": "stream",
     "text": [
      "[6, 7, 6, 2, 1, 6, 8, 10, 8, 5]\n"
     ]
    }
   ],
   "execution_count": 79
  },
  {
   "metadata": {},
   "cell_type": "markdown",
   "source": "#### 36. Sum of Positive Numbers: Given a list of numbers, calculate the sum of all positive numbers.",
   "id": "d2f7ad5c801a6472"
  },
  {
   "metadata": {
    "ExecuteTime": {
     "end_time": "2025-03-01T17:09:01.235651Z",
     "start_time": "2025-03-01T17:09:01.215388Z"
    }
   },
   "cell_type": "code",
   "source": [
    "numbers = [2,-5,4,5,-2,-7, -7, 6]\n",
    "sum_pos = 0\n",
    "for n in numbers:\n",
    "    if n > 0:\n",
    "       sum_pos += n\n",
    "print(f\"sum_pos: {sum_pos}\")"
   ],
   "id": "3c01b56eaa05f141",
   "outputs": [
    {
     "name": "stdout",
     "output_type": "stream",
     "text": [
      "sum_pos: 17\n"
     ]
    }
   ],
   "execution_count": 80
  },
  {
   "metadata": {},
   "cell_type": "markdown",
   "source": "#### 37. Sum of Negative Numbers: Given a list of numbers, calculate the sum of all negative numbers.",
   "id": "78e0ed033ff11014"
  },
  {
   "metadata": {
    "ExecuteTime": {
     "end_time": "2025-03-01T17:10:07.765865Z",
     "start_time": "2025-03-01T17:10:07.716265Z"
    }
   },
   "cell_type": "code",
   "source": [
    "numbers = [2,-5,4,5,-2,-7, -7, 6]\n",
    "sum_neg = 0\n",
    "for n in numbers:\n",
    "    if n < 0:\n",
    "       sum_neg += n\n",
    "print(f\"sum_neg: {sum_neg}\")"
   ],
   "id": "aa959906a1e2d91f",
   "outputs": [
    {
     "name": "stdout",
     "output_type": "stream",
     "text": [
      "sum_neg: -21\n"
     ]
    }
   ],
   "execution_count": 81
  },
  {
   "metadata": {},
   "cell_type": "markdown",
   "source": "#### 38. Check Palindrome: Given a list, check if the list is a palindrome (reads the same forwards and backwards).",
   "id": "f4a354b91b9a81f3"
  },
  {
   "metadata": {
    "ExecuteTime": {
     "end_time": "2025-03-01T17:16:40.327202Z",
     "start_time": "2025-03-01T17:16:40.268250Z"
    }
   },
   "cell_type": "code",
   "source": [
    "def palin(cc):\n",
    "    ln = len(cc)\n",
    "    for y in range(ln):\n",
    "        if cc[y] != cc[ln - y - 1]:\n",
    "            return False\n",
    "    return True\n",
    "pal_arr = [2,4,6,7,6,4,2]\n",
    "if palin(pal_arr) :\n",
    "    print(\"Palindrome\")\n",
    "else:\n",
    "    print(\"not palindrome\")"
   ],
   "id": "a8653109c9a5495f",
   "outputs": [
    {
     "name": "stdout",
     "output_type": "stream",
     "text": [
      "Palindrome\n"
     ]
    }
   ],
   "execution_count": 83
  },
  {
   "metadata": {},
   "cell_type": "markdown",
   "source": "#### 39. Create Nested List: Create a new list that contains sublists, where each sublist contains a specified number of elements from the original list.",
   "id": "b0d6727fa2a95bf3"
  },
  {
   "metadata": {
    "ExecuteTime": {
     "end_time": "2025-03-01T17:38:03.397793Z",
     "start_time": "2025-03-01T17:38:03.386963Z"
    }
   },
   "cell_type": "code",
   "source": [
    "def pow_set(lis1, *args):\n",
    "    last = 0\n",
    "    p_set = []\n",
    "    if len(args) > 0 and sum(args) == len(lis1):\n",
    "        for q in range(len(args)):\n",
    "            p_set.append(list(lis1[last:last+args[q]]))\n",
    "            last += args[q]\n",
    "    return p_set\n",
    "\n",
    "print(arr1)\n",
    "print(pow_set(arr1, 2, 3, 1))"
   ],
   "id": "677d9a96c4c4601",
   "outputs": [
    {
     "name": "stdout",
     "output_type": "stream",
     "text": [
      "[1, 2, 3, 4, 5, 6]\n",
      "[[1, 2], [3, 4, 5], [6]]\n"
     ]
    }
   ],
   "execution_count": 90
  },
  {
   "metadata": {},
   "cell_type": "markdown",
   "source": "#### 40. Get Unique Elements in Order: Given a list, create a new list that contains unique elements while maintaining the original order.",
   "id": "3686ab8c55bba641"
  },
  {
   "metadata": {
    "ExecuteTime": {
     "end_time": "2025-03-01T17:43:40.060947Z",
     "start_time": "2025-03-01T17:43:40.042806Z"
    }
   },
   "cell_type": "code",
   "source": [
    "def unique(bb):\n",
    "    uni_list = []\n",
    "    for z in bb:\n",
    "        if z not in uni_list:\n",
    "            uni_list.append(z)\n",
    "    return uni_list\n",
    "print(unique(arr))"
   ],
   "id": "2d838fbe416762e1",
   "outputs": [
    {
     "name": "stdout",
     "output_type": "stream",
     "text": [
      "[32, 3, 7, 4, 2, 23, 43]\n"
     ]
    }
   ],
   "execution_count": 92
  }
 ],
 "metadata": {
  "kernelspec": {
   "display_name": "Python 3",
   "language": "python",
   "name": "python3"
  },
  "language_info": {
   "codemirror_mode": {
    "name": "ipython",
    "version": 2
   },
   "file_extension": ".py",
   "mimetype": "text/x-python",
   "name": "python",
   "nbconvert_exporter": "python",
   "pygments_lexer": "ipython2",
   "version": "2.7.6"
  }
 },
 "nbformat": 4,
 "nbformat_minor": 5
}
